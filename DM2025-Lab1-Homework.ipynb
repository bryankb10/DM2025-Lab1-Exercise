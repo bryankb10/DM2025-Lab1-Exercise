{
 "cells": [
  {
   "cell_type": "markdown",
   "metadata": {},
   "source": [
    "### Student Information\n",
    "Name: 廖榮健\n",
    "\n",
    "Student ID: 411855165\n",
    "\n",
    "GitHub ID: https://github.com/bryankb10"
   ]
  },
  {
   "cell_type": "markdown",
   "metadata": {},
   "source": [
    "---"
   ]
  },
  {
   "cell_type": "markdown",
   "metadata": {},
   "source": [
    "### Instructions"
   ]
  },
  {
   "cell_type": "markdown",
   "metadata": {},
   "source": [
    "### First Phase Submission"
   ]
  },
  {
   "cell_type": "markdown",
   "metadata": {},
   "source": [
    "1. First: do the **take home** exercises in the [DM2025-Lab1-Master](https://github.com/leoson-wu/DM2025-Lab1-Exercise/blob/main/DM2025-Lab1-Master.ipynb) that considered as **phase 1 (from exercise 1 to exercise 15)**. You can answer in the master file. __This part is worth 10% of your grade.__\n",
    "\n",
    "\n",
    "2. Second: follow the same process from the [DM2025-Lab1-Master](https://github.com/leoson-wu/DM2025-Lab1-Exercise/blob/main/DM2025-Lab1-Master.ipynb) on **the new dataset** up **until phase 1**. You can skip some exercises if you think some steps are not necessary. However main exercises should be completed. You don't need to explain all details as we did (some **minimal comments** explaining your code are useful though).  __This part is worth 15% of your grade.__\n",
    "    -  Use [the new dataset](https://github.com/leoson-wu/DM2025-Lab1-Exercise/blob/main/newdataset/Reddit-stock-sentiment.csv). The dataset contains a 16 columns including 'text' and 'label', with the sentiment labels being: 1.0 is positive, 0.0 is neutral and -1.0 is negative. You can simplify the dataset and use only the columns that you think are necessary. \n",
    "    \n",
    "    - You are allowed to use and modify the `helper` functions in the folder of the first lab session (notice they may need modification) or create your own.\n",
    "    - Use this file to complete the homework from the second part. Make sure the code can be run from the beginning till the end and has all the needed output.\n",
    "\n",
    "\n",
    "3. Third: please attempt the following tasks on **the new dataset**. __This part is worth 10% of your grade.__\n",
    "    - Generate meaningful **new data visualizations**. Refer to online resources and the Data Mining textbook for inspiration and ideas. \n",
    "    \n",
    "\n",
    "\n",
    "4. Fourth: It's hard for us to follow if your code is messy, so please **tidy up your notebook** and **add minimal comments where needed**. __This part is worth 5% of your grade.__\n",
    "\n",
    "You can submit your homework following these guidelines: [DM2025-Lab1-announcement](https://github.com/leoson-wu/DM2025-Lab1-Announcement/blob/main/README.md). Make sure to commit and save your changes to your repository __BEFORE the deadline (September 28th 11:59 pm, Sunday)__. "
   ]
  },
  {
   "cell_type": "markdown",
   "metadata": {},
   "source": [
    "### Second Phase Submission "
   ]
  },
  {
   "cell_type": "markdown",
   "metadata": {},
   "source": [
    "**You can keep the answer for phase 1 for easier running and update the phase 2 on the same page.**\n",
    "\n",
    "1. First: Continue doing the **take home** exercises in the [DM2025-Lab1-Master](https://github.com/leoson-wu/DM2025-Lab1-Exercise/blob/main/DM2025-Lab1-Master.ipynb) for **phase 2, starting from Finding frequent patterns**. Use the same master(.ipynb) file. Answer from phase 1 will not be considered at this stage. You can answer in the master file. __This part is worth 10% of your grade.__\n",
    "\n",
    "\n",
    "2. Second: Continue from first phase and do the same process from the [DM2025-Lab1-Master](https://github.com/leoson-wu/DM2025-Lab1-Exercise/blob/main/DM2025-Lab1-Master.ipynb) on **the new dataset** for phase 2, starting from Finding frequent pattern. You can skip some exercises if you think some steps are not necessary. However main exercises should be completed. You don't need to explain all details as we did (some **minimal comments** explaining your code are useful though).  __This part is worth 15% of your grade.__\n",
    "    - Continue using this file to complete the homework from the second part. Make sure the code can be run from the beginning till the end and has all the needed output. Use the same new dataset as in phase 1.\n",
    "    \n",
    "    - You are allowed to use and modify the `helper` functions in the folder of the first lab session (notice they may need modification) or create your own.\n",
    "\n",
    "3. Third: please attempt the following tasks on **the new dataset**. __This part is worth 20% of your grade.__\n",
    "    - Use this file to answer.\n",
    "    - Generate **TF-IDF features** from the tokens of each text. This will generating a document matrix, however, the weights will be computed differently (using the TF-IDF value of each word per document as opposed to the word frequency).  Refer to this Scikit-learn [guide](http://scikit-learn.org/stable/modules/generated/sklearn.feature_extraction.text.TfidfVectorizer.html) .\n",
    "    - Implement a simple **Naive Bayes classifier** that automatically classifies the records into their categories. Use both the TF-IDF features and word frequency features to build two seperate classifiers. Note that for the TF-IDF features you might need to use other type of NB classifier different than the one in the Master Notebook. Comment on the differences and when using augmentation with feature pattern.  Refer to this [article](https://hub.packtpub.com/implementing-3-naive-bayes-classifiers-in-scikit-learn/).\n",
    "\n",
    "\n",
    "4. Fourth: In the lab, we applied each step really quickly just to illustrate how to work with your dataset. There are somethings that are not ideal or the most efficient/meaningful. Each dataset can be handled differently as well. What are those inefficent parts you noticed? How can you improve the Data preprocessing for these specific datasets? __This part is worth 10% of your grade.__\n",
    "\n",
    "\n",
    "5. Fifth: It's hard for us to follow if your code is messy, so please **tidy up your notebook** and **add minimal comments where needed**. __This part is worth 5% of your grade.__\n",
    "\n",
    "\n",
    "You can submit your homework following these guidelines: [DM2025-Lab1-announcement](https://github.com/leoson-wu/DM2025-Lab1-Announcement/blob/main/README.md). Make sure to commit and save your changes to your repository __BEFORE the deadline (October 19th 11:59 pm, Sunday)__. "
   ]
  },
  {
   "cell_type": "markdown",
   "metadata": {},
   "source": [
    "# Phase 1"
   ]
  },
  {
   "cell_type": "code",
   "execution_count": 153,
   "metadata": {
    "scrolled": true
   },
   "outputs": [
    {
     "name": "stderr",
     "output_type": "stream",
     "text": [
      "[nltk_data] Downloading package punkt to\n",
      "[nltk_data]     C:\\Users\\BK\\AppData\\Roaming\\nltk_data...\n",
      "[nltk_data]   Package punkt is already up-to-date!\n"
     ]
    }
   ],
   "source": [
    "### Begin Assignment Here\n",
    "# test code for environment setup\n",
    "import pandas as pd\n",
    "import numpy as np\n",
    "import nltk\n",
    "nltk.download('punkt') # download the NLTK datasets\n",
    "from sklearn.datasets import fetch_20newsgroups\n",
    "from sklearn.feature_extraction.text import CountVectorizer\n",
    "import plotly as py\n",
    "import math\n",
    "# If you get \"ModuleNotFoundError: No module named 'PAMI'\"\n",
    "# run the following in a new Jupyter cell:\n",
    "# !pip3 install PAMI\n",
    "import PAMI\n",
    "import umap"
   ]
  },
  {
   "cell_type": "markdown",
   "metadata": {},
   "source": [
    "1. Read the csv file and only choose the columns needed"
   ]
  },
  {
   "cell_type": "code",
   "execution_count": 154,
   "metadata": {},
   "outputs": [
    {
     "data": {
      "text/html": [
       "<div>\n",
       "<style scoped>\n",
       "    .dataframe tbody tr th:only-of-type {\n",
       "        vertical-align: middle;\n",
       "    }\n",
       "\n",
       "    .dataframe tbody tr th {\n",
       "        vertical-align: top;\n",
       "    }\n",
       "\n",
       "    .dataframe thead th {\n",
       "        text-align: right;\n",
       "    }\n",
       "</style>\n",
       "<table border=\"1\" class=\"dataframe\">\n",
       "  <thead>\n",
       "    <tr style=\"text-align: right;\">\n",
       "      <th></th>\n",
       "      <th>type</th>\n",
       "      <th>datetime</th>\n",
       "      <th>subreddit</th>\n",
       "      <th>author</th>\n",
       "      <th>upvotes</th>\n",
       "      <th>downvotes</th>\n",
       "      <th>upvote_ratio</th>\n",
       "      <th>text</th>\n",
       "      <th>sentiment</th>\n",
       "      <th>entities</th>\n",
       "    </tr>\n",
       "  </thead>\n",
       "  <tbody>\n",
       "    <tr>\n",
       "      <th>0</th>\n",
       "      <td>comment</td>\n",
       "      <td>2025-04-11 17:29:56</td>\n",
       "      <td>wallstreetbets</td>\n",
       "      <td>StickyTip420</td>\n",
       "      <td>0</td>\n",
       "      <td>NaN</td>\n",
       "      <td>NaN</td>\n",
       "      <td>Calls on retards</td>\n",
       "      <td>-1.0</td>\n",
       "      <td>[]</td>\n",
       "    </tr>\n",
       "    <tr>\n",
       "      <th>1</th>\n",
       "      <td>comment</td>\n",
       "      <td>2025-04-12 1:12:19</td>\n",
       "      <td>wallstreetbets</td>\n",
       "      <td>Comfortable-Dog-8437</td>\n",
       "      <td>-15</td>\n",
       "      <td>NaN</td>\n",
       "      <td>NaN</td>\n",
       "      <td>Stunt as in like why did they even make a big ...</td>\n",
       "      <td>1.0</td>\n",
       "      <td>['Stunt', 'company', 'deal', 'place']</td>\n",
       "    </tr>\n",
       "    <tr>\n",
       "      <th>2</th>\n",
       "      <td>comment</td>\n",
       "      <td>2025-04-10 15:09:41</td>\n",
       "      <td>StockMarket</td>\n",
       "      <td>Btankersly66</td>\n",
       "      <td>1</td>\n",
       "      <td>NaN</td>\n",
       "      <td>NaN</td>\n",
       "      <td>Seeing lots of red in the ticker.</td>\n",
       "      <td>0.0</td>\n",
       "      <td>['ticker']</td>\n",
       "    </tr>\n",
       "    <tr>\n",
       "      <th>3</th>\n",
       "      <td>post</td>\n",
       "      <td>2023-08-30 17:12:55</td>\n",
       "      <td>stockstobuytoday</td>\n",
       "      <td>emiljenfn</td>\n",
       "      <td>30</td>\n",
       "      <td>0.0</td>\n",
       "      <td>0.98</td>\n",
       "      <td>Vision Marine Technologies Inc. is rewriting t...</td>\n",
       "      <td>1.0</td>\n",
       "      <td>['watercraft', 'skill', 'power', ']', 'feat', ...</td>\n",
       "    </tr>\n",
       "    <tr>\n",
       "      <th>4</th>\n",
       "      <td>comment</td>\n",
       "      <td>2025-04-11 14:48:05</td>\n",
       "      <td>StockMarket</td>\n",
       "      <td>Just-Big6411</td>\n",
       "      <td>1</td>\n",
       "      <td>NaN</td>\n",
       "      <td>NaN</td>\n",
       "      <td>He didn’t say thank you.</td>\n",
       "      <td>0.0</td>\n",
       "      <td>[]</td>\n",
       "    </tr>\n",
       "    <tr>\n",
       "      <th>...</th>\n",
       "      <td>...</td>\n",
       "      <td>...</td>\n",
       "      <td>...</td>\n",
       "      <td>...</td>\n",
       "      <td>...</td>\n",
       "      <td>...</td>\n",
       "      <td>...</td>\n",
       "      <td>...</td>\n",
       "      <td>...</td>\n",
       "      <td>...</td>\n",
       "    </tr>\n",
       "    <tr>\n",
       "      <th>842</th>\n",
       "      <td>comment</td>\n",
       "      <td>2021-06-30 4:06:06</td>\n",
       "      <td>stockstobuytoday</td>\n",
       "      <td>Ordinary-Office9180</td>\n",
       "      <td>1</td>\n",
       "      <td>NaN</td>\n",
       "      <td>NaN</td>\n",
       "      <td>Invest now it is going to shoot up tomorrow</td>\n",
       "      <td>0.0</td>\n",
       "      <td>['tomorrow']</td>\n",
       "    </tr>\n",
       "    <tr>\n",
       "      <th>843</th>\n",
       "      <td>comment</td>\n",
       "      <td>2025-04-11 5:01:24</td>\n",
       "      <td>StockMarket</td>\n",
       "      <td>lulububudu</td>\n",
       "      <td>2</td>\n",
       "      <td>NaN</td>\n",
       "      <td>NaN</td>\n",
       "      <td>Where can I read this?</td>\n",
       "      <td>0.0</td>\n",
       "      <td>[]</td>\n",
       "    </tr>\n",
       "    <tr>\n",
       "      <th>844</th>\n",
       "      <td>post</td>\n",
       "      <td>2025-03-24 12:30:39</td>\n",
       "      <td>stockstobuytoday</td>\n",
       "      <td>saasfin</td>\n",
       "      <td>1</td>\n",
       "      <td>0.0</td>\n",
       "      <td>1.00</td>\n",
       "      <td>Upgrades, Downgrades\\r\\n\\r\\n [Stock Analyst Re...</td>\n",
       "      <td>0.0</td>\n",
       "      <td>['Analyst', 'Nasdaq', 'Stock', 'Upgrades', 'Do...</td>\n",
       "    </tr>\n",
       "    <tr>\n",
       "      <th>845</th>\n",
       "      <td>comment</td>\n",
       "      <td>2025-04-11 20:13:26</td>\n",
       "      <td>wallstreetbets</td>\n",
       "      <td>yes_ur_wrong</td>\n",
       "      <td>10</td>\n",
       "      <td>NaN</td>\n",
       "      <td>NaN</td>\n",
       "      <td>i sold my puts so i expect cheeto to declare w...</td>\n",
       "      <td>0.0</td>\n",
       "      <td>['war', 'denmark', 'cheeto', 'i']</td>\n",
       "    </tr>\n",
       "    <tr>\n",
       "      <th>846</th>\n",
       "      <td>comment</td>\n",
       "      <td>2025-04-12 3:09:06</td>\n",
       "      <td>wallstreetbets</td>\n",
       "      <td>I_am_Nerman</td>\n",
       "      <td>1</td>\n",
       "      <td>NaN</td>\n",
       "      <td>NaN</td>\n",
       "      <td>![img](emote|t5_2th52|31224)</td>\n",
       "      <td>0.0</td>\n",
       "      <td>['img', ']', '[', 'emote|t5_2th52|31224']</td>\n",
       "    </tr>\n",
       "  </tbody>\n",
       "</table>\n",
       "<p>847 rows × 10 columns</p>\n",
       "</div>"
      ],
      "text/plain": [
       "        type             datetime         subreddit                author  \\\n",
       "0    comment  2025-04-11 17:29:56    wallstreetbets          StickyTip420   \n",
       "1    comment   2025-04-12 1:12:19    wallstreetbets  Comfortable-Dog-8437   \n",
       "2    comment  2025-04-10 15:09:41       StockMarket          Btankersly66   \n",
       "3       post  2023-08-30 17:12:55  stockstobuytoday             emiljenfn   \n",
       "4    comment  2025-04-11 14:48:05       StockMarket          Just-Big6411   \n",
       "..       ...                  ...               ...                   ...   \n",
       "842  comment   2021-06-30 4:06:06  stockstobuytoday   Ordinary-Office9180   \n",
       "843  comment   2025-04-11 5:01:24       StockMarket            lulububudu   \n",
       "844     post  2025-03-24 12:30:39  stockstobuytoday               saasfin   \n",
       "845  comment  2025-04-11 20:13:26    wallstreetbets          yes_ur_wrong   \n",
       "846  comment   2025-04-12 3:09:06    wallstreetbets           I_am_Nerman   \n",
       "\n",
       "     upvotes  downvotes  upvote_ratio  \\\n",
       "0          0        NaN           NaN   \n",
       "1        -15        NaN           NaN   \n",
       "2          1        NaN           NaN   \n",
       "3         30        0.0          0.98   \n",
       "4          1        NaN           NaN   \n",
       "..       ...        ...           ...   \n",
       "842        1        NaN           NaN   \n",
       "843        2        NaN           NaN   \n",
       "844        1        0.0          1.00   \n",
       "845       10        NaN           NaN   \n",
       "846        1        NaN           NaN   \n",
       "\n",
       "                                                  text  sentiment  \\\n",
       "0                                     Calls on retards       -1.0   \n",
       "1    Stunt as in like why did they even make a big ...        1.0   \n",
       "2                    Seeing lots of red in the ticker.        0.0   \n",
       "3    Vision Marine Technologies Inc. is rewriting t...        1.0   \n",
       "4                             He didn’t say thank you.        0.0   \n",
       "..                                                 ...        ...   \n",
       "842        Invest now it is going to shoot up tomorrow        0.0   \n",
       "843                             Where can I read this?        0.0   \n",
       "844  Upgrades, Downgrades\\r\\n\\r\\n [Stock Analyst Re...        0.0   \n",
       "845  i sold my puts so i expect cheeto to declare w...        0.0   \n",
       "846                       ![img](emote|t5_2th52|31224)        0.0   \n",
       "\n",
       "                                              entities  \n",
       "0                                                   []  \n",
       "1                ['Stunt', 'company', 'deal', 'place']  \n",
       "2                                           ['ticker']  \n",
       "3    ['watercraft', 'skill', 'power', ']', 'feat', ...  \n",
       "4                                                   []  \n",
       "..                                                 ...  \n",
       "842                                       ['tomorrow']  \n",
       "843                                                 []  \n",
       "844  ['Analyst', 'Nasdaq', 'Stock', 'Upgrades', 'Do...  \n",
       "845                  ['war', 'denmark', 'cheeto', 'i']  \n",
       "846          ['img', ']', '[', 'emote|t5_2th52|31224']  \n",
       "\n",
       "[847 rows x 10 columns]"
      ]
     },
     "execution_count": 154,
     "metadata": {},
     "output_type": "execute_result"
    }
   ],
   "source": [
    "import helpers.data_mining_helpers as dmh\n",
    "\n",
    "df = pd.read_csv(\"newdataset/Reddit-stock-sentiment.csv\", usecols = ['type', 'datetime','subreddit', 'author', 'upvotes', 'downvotes', 'upvote_ratio', 'text', 'entities', 'sentiment'])\n",
    "df"
   ]
  },
  {
   "cell_type": "code",
   "execution_count": 155,
   "metadata": {},
   "outputs": [
    {
     "data": {
      "text/plain": [
       "847"
      ]
     },
     "execution_count": 155,
     "metadata": {},
     "output_type": "execute_result"
    }
   ],
   "source": [
    "len(df)"
   ]
  },
  {
   "cell_type": "markdown",
   "metadata": {},
   "source": [
    "2. Check the first few records from the dataset"
   ]
  },
  {
   "cell_type": "code",
   "execution_count": 156,
   "metadata": {},
   "outputs": [
    {
     "data": {
      "text/html": [
       "<div>\n",
       "<style scoped>\n",
       "    .dataframe tbody tr th:only-of-type {\n",
       "        vertical-align: middle;\n",
       "    }\n",
       "\n",
       "    .dataframe tbody tr th {\n",
       "        vertical-align: top;\n",
       "    }\n",
       "\n",
       "    .dataframe thead th {\n",
       "        text-align: right;\n",
       "    }\n",
       "</style>\n",
       "<table border=\"1\" class=\"dataframe\">\n",
       "  <thead>\n",
       "    <tr style=\"text-align: right;\">\n",
       "      <th></th>\n",
       "      <th>type</th>\n",
       "      <th>datetime</th>\n",
       "      <th>subreddit</th>\n",
       "      <th>author</th>\n",
       "      <th>upvotes</th>\n",
       "      <th>downvotes</th>\n",
       "      <th>upvote_ratio</th>\n",
       "      <th>text</th>\n",
       "      <th>sentiment</th>\n",
       "      <th>entities</th>\n",
       "    </tr>\n",
       "  </thead>\n",
       "  <tbody>\n",
       "    <tr>\n",
       "      <th>0</th>\n",
       "      <td>comment</td>\n",
       "      <td>2025-04-11 17:29:56</td>\n",
       "      <td>wallstreetbets</td>\n",
       "      <td>StickyTip420</td>\n",
       "      <td>0</td>\n",
       "      <td>NaN</td>\n",
       "      <td>NaN</td>\n",
       "      <td>Calls on retards</td>\n",
       "      <td>-1.0</td>\n",
       "      <td>[]</td>\n",
       "    </tr>\n",
       "    <tr>\n",
       "      <th>1</th>\n",
       "      <td>comment</td>\n",
       "      <td>2025-04-12 1:12:19</td>\n",
       "      <td>wallstreetbets</td>\n",
       "      <td>Comfortable-Dog-8437</td>\n",
       "      <td>-15</td>\n",
       "      <td>NaN</td>\n",
       "      <td>NaN</td>\n",
       "      <td>Stunt as in like why did they even make a big ...</td>\n",
       "      <td>1.0</td>\n",
       "      <td>['Stunt', 'company', 'deal', 'place']</td>\n",
       "    </tr>\n",
       "    <tr>\n",
       "      <th>2</th>\n",
       "      <td>comment</td>\n",
       "      <td>2025-04-10 15:09:41</td>\n",
       "      <td>StockMarket</td>\n",
       "      <td>Btankersly66</td>\n",
       "      <td>1</td>\n",
       "      <td>NaN</td>\n",
       "      <td>NaN</td>\n",
       "      <td>Seeing lots of red in the ticker.</td>\n",
       "      <td>0.0</td>\n",
       "      <td>['ticker']</td>\n",
       "    </tr>\n",
       "  </tbody>\n",
       "</table>\n",
       "</div>"
      ],
      "text/plain": [
       "      type             datetime       subreddit                author  \\\n",
       "0  comment  2025-04-11 17:29:56  wallstreetbets          StickyTip420   \n",
       "1  comment   2025-04-12 1:12:19  wallstreetbets  Comfortable-Dog-8437   \n",
       "2  comment  2025-04-10 15:09:41     StockMarket          Btankersly66   \n",
       "\n",
       "   upvotes  downvotes  upvote_ratio  \\\n",
       "0        0        NaN           NaN   \n",
       "1      -15        NaN           NaN   \n",
       "2        1        NaN           NaN   \n",
       "\n",
       "                                                text  sentiment  \\\n",
       "0                                   Calls on retards       -1.0   \n",
       "1  Stunt as in like why did they even make a big ...        1.0   \n",
       "2                  Seeing lots of red in the ticker.        0.0   \n",
       "\n",
       "                                entities  \n",
       "0                                     []  \n",
       "1  ['Stunt', 'company', 'deal', 'place']  \n",
       "2                             ['ticker']  "
      ]
     },
     "execution_count": 156,
     "metadata": {},
     "output_type": "execute_result"
    }
   ],
   "source": [
    "df.head(3)"
   ]
  },
  {
   "cell_type": "markdown",
   "metadata": {},
   "source": [
    "Exercise 1"
   ]
  },
  {
   "cell_type": "code",
   "execution_count": 157,
   "metadata": {},
   "outputs": [
    {
     "name": "stdout",
     "output_type": "stream",
     "text": [
      "1. wallstreetbets\n",
      "Calls on retards\n",
      "\n",
      "2. wallstreetbets\n",
      "Stunt as in like why did they even make a big deal about starting it in the first place? No company should ever talk about politics ever.\n",
      "\n",
      "3. StockMarket\n",
      "Seeing lots of red in the ticker.\n",
      "\n"
     ]
    }
   ],
   "source": [
    "for i, row in df[:3].iterrows():\n",
    "    print(f\"{i+1}. {row['subreddit']}\")\n",
    "    print(row['text'])\n",
    "    print()"
   ]
  },
  {
   "cell_type": "markdown",
   "metadata": {},
   "source": [
    "Exercise 2"
   ]
  },
  {
   "cell_type": "code",
   "execution_count": 158,
   "metadata": {},
   "outputs": [
    {
     "data": {
      "text/html": [
       "<div>\n",
       "<style scoped>\n",
       "    .dataframe tbody tr th:only-of-type {\n",
       "        vertical-align: middle;\n",
       "    }\n",
       "\n",
       "    .dataframe tbody tr th {\n",
       "        vertical-align: top;\n",
       "    }\n",
       "\n",
       "    .dataframe thead th {\n",
       "        text-align: right;\n",
       "    }\n",
       "</style>\n",
       "<table border=\"1\" class=\"dataframe\">\n",
       "  <thead>\n",
       "    <tr style=\"text-align: right;\">\n",
       "      <th></th>\n",
       "      <th>type</th>\n",
       "      <th>datetime</th>\n",
       "      <th>subreddit</th>\n",
       "      <th>author</th>\n",
       "      <th>upvotes</th>\n",
       "      <th>downvotes</th>\n",
       "      <th>upvote_ratio</th>\n",
       "      <th>text</th>\n",
       "      <th>sentiment</th>\n",
       "      <th>entities</th>\n",
       "    </tr>\n",
       "  </thead>\n",
       "  <tbody>\n",
       "    <tr>\n",
       "      <th>28</th>\n",
       "      <td>comment</td>\n",
       "      <td>2025-04-11 17:21:44</td>\n",
       "      <td>wallstreetbets</td>\n",
       "      <td>PlannedObsolescence-</td>\n",
       "      <td>53</td>\n",
       "      <td>NaN</td>\n",
       "      <td>NaN</td>\n",
       "      <td>My first wife was tarded, she's a pilot now.</td>\n",
       "      <td>1.0</td>\n",
       "      <td>['pilot', 'wife']</td>\n",
       "    </tr>\n",
       "    <tr>\n",
       "      <th>108</th>\n",
       "      <td>comment</td>\n",
       "      <td>2025-04-12 2:02:10</td>\n",
       "      <td>wallstreetbets</td>\n",
       "      <td>SupaRiceNinja</td>\n",
       "      <td>80</td>\n",
       "      <td>NaN</td>\n",
       "      <td>NaN</td>\n",
       "      <td>Carryover indefinitely for life of taxpayer</td>\n",
       "      <td>0.0</td>\n",
       "      <td>['Carryover', 'life', 'taxpayer']</td>\n",
       "    </tr>\n",
       "    <tr>\n",
       "      <th>326</th>\n",
       "      <td>comment</td>\n",
       "      <td>2025-04-12 1:51:01</td>\n",
       "      <td>wallstreetbets</td>\n",
       "      <td>RichardUkinsuch</td>\n",
       "      <td>59</td>\n",
       "      <td>NaN</td>\n",
       "      <td>NaN</td>\n",
       "      <td>Call jay gee went worth 8 seven seven cash meow</td>\n",
       "      <td>1.0</td>\n",
       "      <td>['meow', 'gee', 'cash', 'jay']</td>\n",
       "    </tr>\n",
       "  </tbody>\n",
       "</table>\n",
       "</div>"
      ],
      "text/plain": [
       "        type             datetime       subreddit                author  \\\n",
       "28   comment  2025-04-11 17:21:44  wallstreetbets  PlannedObsolescence-   \n",
       "108  comment   2025-04-12 2:02:10  wallstreetbets         SupaRiceNinja   \n",
       "326  comment   2025-04-12 1:51:01  wallstreetbets       RichardUkinsuch   \n",
       "\n",
       "     upvotes  downvotes  upvote_ratio  \\\n",
       "28        53        NaN           NaN   \n",
       "108       80        NaN           NaN   \n",
       "326       59        NaN           NaN   \n",
       "\n",
       "                                                text  sentiment  \\\n",
       "28      My first wife was tarded, she's a pilot now.        1.0   \n",
       "108      Carryover indefinitely for life of taxpayer        0.0   \n",
       "326  Call jay gee went worth 8 seven seven cash meow        1.0   \n",
       "\n",
       "                              entities  \n",
       "28                   ['pilot', 'wife']  \n",
       "108  ['Carryover', 'life', 'taxpayer']  \n",
       "326     ['meow', 'gee', 'cash', 'jay']  "
      ]
     },
     "execution_count": 158,
     "metadata": {},
     "output_type": "execute_result"
    }
   ],
   "source": [
    "df[(df['subreddit'] == 'wallstreetbets') & \n",
    "   (df['upvotes'] > 50)]"
   ]
  },
  {
   "cell_type": "markdown",
   "metadata": {},
   "source": [
    "Exercise 3"
   ]
  },
  {
   "cell_type": "code",
   "execution_count": 159,
   "metadata": {},
   "outputs": [
    {
     "data": {
      "text/html": [
       "<div>\n",
       "<style scoped>\n",
       "    .dataframe tbody tr th:only-of-type {\n",
       "        vertical-align: middle;\n",
       "    }\n",
       "\n",
       "    .dataframe tbody tr th {\n",
       "        vertical-align: top;\n",
       "    }\n",
       "\n",
       "    .dataframe thead th {\n",
       "        text-align: right;\n",
       "    }\n",
       "</style>\n",
       "<table border=\"1\" class=\"dataframe\">\n",
       "  <thead>\n",
       "    <tr style=\"text-align: right;\">\n",
       "      <th></th>\n",
       "      <th>type</th>\n",
       "      <th>datetime</th>\n",
       "      <th>subreddit</th>\n",
       "      <th>author</th>\n",
       "      <th>upvotes</th>\n",
       "      <th>downvotes</th>\n",
       "      <th>upvote_ratio</th>\n",
       "      <th>text</th>\n",
       "      <th>sentiment</th>\n",
       "      <th>entities</th>\n",
       "    </tr>\n",
       "  </thead>\n",
       "  <tbody>\n",
       "    <tr>\n",
       "      <th>6</th>\n",
       "      <td>comment</td>\n",
       "      <td>2025-04-11 12:37:23</td>\n",
       "      <td>stocks</td>\n",
       "      <td>stoniey84</td>\n",
       "      <td>5</td>\n",
       "      <td>NaN</td>\n",
       "      <td>NaN</td>\n",
       "      <td>Trump will respond to china increasing their t...</td>\n",
       "      <td>-1.0</td>\n",
       "      <td>['JPow', 'Jerome', 'i', 'reporting', 'Trump', ...</td>\n",
       "    </tr>\n",
       "    <tr>\n",
       "      <th>20</th>\n",
       "      <td>comment</td>\n",
       "      <td>2025-04-11 13:11:35</td>\n",
       "      <td>stocks</td>\n",
       "      <td>Golden__Eagle</td>\n",
       "      <td>5</td>\n",
       "      <td>NaN</td>\n",
       "      <td>NaN</td>\n",
       "      <td>Nooo dont go down its smug bull day</td>\n",
       "      <td>0.0</td>\n",
       "      <td>['bull', 'day', 'dont', 'Nooo']</td>\n",
       "    </tr>\n",
       "    <tr>\n",
       "      <th>49</th>\n",
       "      <td>comment</td>\n",
       "      <td>2025-04-11 16:01:45</td>\n",
       "      <td>stocks</td>\n",
       "      <td>CEOofBeanz</td>\n",
       "      <td>1</td>\n",
       "      <td>NaN</td>\n",
       "      <td>NaN</td>\n",
       "      <td>And you are? \\r\\n\\r\\nMarket. Mr. Market.</td>\n",
       "      <td>0.0</td>\n",
       "      <td>['Mr.', 'Market']</td>\n",
       "    </tr>\n",
       "    <tr>\n",
       "      <th>75</th>\n",
       "      <td>comment</td>\n",
       "      <td>2025-03-27 21:15:26</td>\n",
       "      <td>stocks</td>\n",
       "      <td>BugDisastrous5135</td>\n",
       "      <td>1</td>\n",
       "      <td>NaN</td>\n",
       "      <td>NaN</td>\n",
       "      <td>\"New to investing\" but almost $50k port. Ok th...</td>\n",
       "      <td>1.0</td>\n",
       "      <td>['New', 'port']</td>\n",
       "    </tr>\n",
       "    <tr>\n",
       "      <th>118</th>\n",
       "      <td>comment</td>\n",
       "      <td>2025-04-10 15:31:57</td>\n",
       "      <td>stocks</td>\n",
       "      <td>mealucra</td>\n",
       "      <td>1</td>\n",
       "      <td>NaN</td>\n",
       "      <td>NaN</td>\n",
       "      <td>Yikes...\\r\\n\\r\\n\\r\\nThis shitshow continually ...</td>\n",
       "      <td>-1.0</td>\n",
       "      <td>['shitshow', 'spine', 'drumpf', 'news', 'rabid...</td>\n",
       "    </tr>\n",
       "  </tbody>\n",
       "</table>\n",
       "</div>"
      ],
      "text/plain": [
       "        type             datetime subreddit             author  upvotes  \\\n",
       "6    comment  2025-04-11 12:37:23    stocks          stoniey84        5   \n",
       "20   comment  2025-04-11 13:11:35    stocks      Golden__Eagle        5   \n",
       "49   comment  2025-04-11 16:01:45    stocks         CEOofBeanz        1   \n",
       "75   comment  2025-03-27 21:15:26    stocks  BugDisastrous5135        1   \n",
       "118  comment  2025-04-10 15:31:57    stocks           mealucra        1   \n",
       "\n",
       "     downvotes  upvote_ratio  \\\n",
       "6          NaN           NaN   \n",
       "20         NaN           NaN   \n",
       "49         NaN           NaN   \n",
       "75         NaN           NaN   \n",
       "118        NaN           NaN   \n",
       "\n",
       "                                                  text  sentiment  \\\n",
       "6    Trump will respond to china increasing their t...       -1.0   \n",
       "20                 Nooo dont go down its smug bull day        0.0   \n",
       "49           And you are? \\r\\n\\r\\nMarket. Mr. Market.         0.0   \n",
       "75   \"New to investing\" but almost $50k port. Ok th...        1.0   \n",
       "118  Yikes...\\r\\n\\r\\n\\r\\nThis shitshow continually ...       -1.0   \n",
       "\n",
       "                                              entities  \n",
       "6    ['JPow', 'Jerome', 'i', 'reporting', 'Trump', ...  \n",
       "20                     ['bull', 'day', 'dont', 'Nooo']  \n",
       "49                                   ['Mr.', 'Market']  \n",
       "75                                     ['New', 'port']  \n",
       "118  ['shitshow', 'spine', 'drumpf', 'news', 'rabid...  "
      ]
     },
     "execution_count": 159,
     "metadata": {},
     "output_type": "execute_result"
    }
   ],
   "source": [
    "df[df['subreddit'] == 'stocks'][::10][0:5]"
   ]
  },
  {
   "cell_type": "markdown",
   "metadata": {},
   "source": [
    "3. Check for nulls and duplicates in the dataset"
   ]
  },
  {
   "cell_type": "code",
   "execution_count": 160,
   "metadata": {},
   "outputs": [
    {
     "data": {
      "text/plain": [
       "type              0\n",
       "datetime          0\n",
       "subreddit         0\n",
       "author            0\n",
       "upvotes           0\n",
       "downvotes       783\n",
       "upvote_ratio    783\n",
       "text              0\n",
       "sentiment         0\n",
       "entities          0\n",
       "dtype: int64"
      ]
     },
     "execution_count": 160,
     "metadata": {},
     "output_type": "execute_result"
    }
   ],
   "source": [
    "df.isnull().sum()"
   ]
  },
  {
   "cell_type": "markdown",
   "metadata": {},
   "source": [
    "Exercise 4"
   ]
  },
  {
   "cell_type": "code",
   "execution_count": 161,
   "metadata": {},
   "outputs": [
    {
     "data": {
      "text/plain": [
       "0      (The amount of missing records is: , 2)\n",
       "1      (The amount of missing records is: , 2)\n",
       "2      (The amount of missing records is: , 2)\n",
       "3      (The amount of missing records is: , 0)\n",
       "4      (The amount of missing records is: , 2)\n",
       "                        ...                   \n",
       "842    (The amount of missing records is: , 2)\n",
       "843    (The amount of missing records is: , 2)\n",
       "844    (The amount of missing records is: , 0)\n",
       "845    (The amount of missing records is: , 2)\n",
       "846    (The amount of missing records is: , 2)\n",
       "Length: 847, dtype: object"
      ]
     },
     "execution_count": 161,
     "metadata": {},
     "output_type": "execute_result"
    }
   ],
   "source": [
    "df.isnull().apply(lambda x: dmh.check_missing_values(x), axis=1)"
   ]
  },
  {
   "cell_type": "code",
   "execution_count": 162,
   "metadata": {},
   "outputs": [
    {
     "name": "stdout",
     "output_type": "stream",
     "text": [
      "0      False\n",
      "1      False\n",
      "2      False\n",
      "3      False\n",
      "4      False\n",
      "       ...  \n",
      "842    False\n",
      "843    False\n",
      "844    False\n",
      "845    False\n",
      "846    False\n",
      "Length: 847, dtype: bool\n",
      "\n",
      "Duplicate columns (content):\n",
      "type            False\n",
      "datetime        False\n",
      "subreddit       False\n",
      "author          False\n",
      "upvotes         False\n",
      "downvotes       False\n",
      "upvote_ratio    False\n",
      "text            False\n",
      "sentiment       False\n",
      "entities        False\n",
      "dtype: bool\n",
      "\n",
      "Names of duplicate columns:\n",
      "Index([], dtype='object')\n"
     ]
    }
   ],
   "source": [
    "print(df.duplicated()) # check based on row\n",
    "print()\n",
    "duplicate_cols = df.T.duplicated()\n",
    "print(\"Duplicate columns (content):\")\n",
    "print(duplicate_cols)\n",
    "\n",
    "# To see which specific columns are duplicates:\n",
    "print(\"\\nNames of duplicate columns:\")\n",
    "print(df.columns[duplicate_cols])# check based on column"
   ]
  },
  {
   "cell_type": "markdown",
   "metadata": {},
   "source": [
    "4. drop all nulls"
   ]
  },
  {
   "cell_type": "code",
   "execution_count": 163,
   "metadata": {},
   "outputs": [],
   "source": [
    "df.dropna(axis=1, inplace=True)"
   ]
  },
  {
   "cell_type": "code",
   "execution_count": 164,
   "metadata": {},
   "outputs": [
    {
     "data": {
      "text/html": [
       "<div>\n",
       "<style scoped>\n",
       "    .dataframe tbody tr th:only-of-type {\n",
       "        vertical-align: middle;\n",
       "    }\n",
       "\n",
       "    .dataframe tbody tr th {\n",
       "        vertical-align: top;\n",
       "    }\n",
       "\n",
       "    .dataframe thead th {\n",
       "        text-align: right;\n",
       "    }\n",
       "</style>\n",
       "<table border=\"1\" class=\"dataframe\">\n",
       "  <thead>\n",
       "    <tr style=\"text-align: right;\">\n",
       "      <th></th>\n",
       "      <th>type</th>\n",
       "      <th>datetime</th>\n",
       "      <th>subreddit</th>\n",
       "      <th>author</th>\n",
       "      <th>upvotes</th>\n",
       "      <th>text</th>\n",
       "      <th>sentiment</th>\n",
       "      <th>entities</th>\n",
       "    </tr>\n",
       "  </thead>\n",
       "  <tbody>\n",
       "    <tr>\n",
       "      <th>0</th>\n",
       "      <td>comment</td>\n",
       "      <td>2025-04-11 17:29:56</td>\n",
       "      <td>wallstreetbets</td>\n",
       "      <td>StickyTip420</td>\n",
       "      <td>0</td>\n",
       "      <td>Calls on retards</td>\n",
       "      <td>-1.0</td>\n",
       "      <td>[]</td>\n",
       "    </tr>\n",
       "    <tr>\n",
       "      <th>1</th>\n",
       "      <td>comment</td>\n",
       "      <td>2025-04-12 1:12:19</td>\n",
       "      <td>wallstreetbets</td>\n",
       "      <td>Comfortable-Dog-8437</td>\n",
       "      <td>-15</td>\n",
       "      <td>Stunt as in like why did they even make a big ...</td>\n",
       "      <td>1.0</td>\n",
       "      <td>['Stunt', 'company', 'deal', 'place']</td>\n",
       "    </tr>\n",
       "    <tr>\n",
       "      <th>2</th>\n",
       "      <td>comment</td>\n",
       "      <td>2025-04-10 15:09:41</td>\n",
       "      <td>StockMarket</td>\n",
       "      <td>Btankersly66</td>\n",
       "      <td>1</td>\n",
       "      <td>Seeing lots of red in the ticker.</td>\n",
       "      <td>0.0</td>\n",
       "      <td>['ticker']</td>\n",
       "    </tr>\n",
       "    <tr>\n",
       "      <th>3</th>\n",
       "      <td>post</td>\n",
       "      <td>2023-08-30 17:12:55</td>\n",
       "      <td>stockstobuytoday</td>\n",
       "      <td>emiljenfn</td>\n",
       "      <td>30</td>\n",
       "      <td>Vision Marine Technologies Inc. is rewriting t...</td>\n",
       "      <td>1.0</td>\n",
       "      <td>['watercraft', 'skill', 'power', ']', 'feat', ...</td>\n",
       "    </tr>\n",
       "    <tr>\n",
       "      <th>4</th>\n",
       "      <td>comment</td>\n",
       "      <td>2025-04-11 14:48:05</td>\n",
       "      <td>StockMarket</td>\n",
       "      <td>Just-Big6411</td>\n",
       "      <td>1</td>\n",
       "      <td>He didn’t say thank you.</td>\n",
       "      <td>0.0</td>\n",
       "      <td>[]</td>\n",
       "    </tr>\n",
       "    <tr>\n",
       "      <th>...</th>\n",
       "      <td>...</td>\n",
       "      <td>...</td>\n",
       "      <td>...</td>\n",
       "      <td>...</td>\n",
       "      <td>...</td>\n",
       "      <td>...</td>\n",
       "      <td>...</td>\n",
       "      <td>...</td>\n",
       "    </tr>\n",
       "    <tr>\n",
       "      <th>842</th>\n",
       "      <td>comment</td>\n",
       "      <td>2021-06-30 4:06:06</td>\n",
       "      <td>stockstobuytoday</td>\n",
       "      <td>Ordinary-Office9180</td>\n",
       "      <td>1</td>\n",
       "      <td>Invest now it is going to shoot up tomorrow</td>\n",
       "      <td>0.0</td>\n",
       "      <td>['tomorrow']</td>\n",
       "    </tr>\n",
       "    <tr>\n",
       "      <th>843</th>\n",
       "      <td>comment</td>\n",
       "      <td>2025-04-11 5:01:24</td>\n",
       "      <td>StockMarket</td>\n",
       "      <td>lulububudu</td>\n",
       "      <td>2</td>\n",
       "      <td>Where can I read this?</td>\n",
       "      <td>0.0</td>\n",
       "      <td>[]</td>\n",
       "    </tr>\n",
       "    <tr>\n",
       "      <th>844</th>\n",
       "      <td>post</td>\n",
       "      <td>2025-03-24 12:30:39</td>\n",
       "      <td>stockstobuytoday</td>\n",
       "      <td>saasfin</td>\n",
       "      <td>1</td>\n",
       "      <td>Upgrades, Downgrades\\r\\n\\r\\n [Stock Analyst Re...</td>\n",
       "      <td>0.0</td>\n",
       "      <td>['Analyst', 'Nasdaq', 'Stock', 'Upgrades', 'Do...</td>\n",
       "    </tr>\n",
       "    <tr>\n",
       "      <th>845</th>\n",
       "      <td>comment</td>\n",
       "      <td>2025-04-11 20:13:26</td>\n",
       "      <td>wallstreetbets</td>\n",
       "      <td>yes_ur_wrong</td>\n",
       "      <td>10</td>\n",
       "      <td>i sold my puts so i expect cheeto to declare w...</td>\n",
       "      <td>0.0</td>\n",
       "      <td>['war', 'denmark', 'cheeto', 'i']</td>\n",
       "    </tr>\n",
       "    <tr>\n",
       "      <th>846</th>\n",
       "      <td>comment</td>\n",
       "      <td>2025-04-12 3:09:06</td>\n",
       "      <td>wallstreetbets</td>\n",
       "      <td>I_am_Nerman</td>\n",
       "      <td>1</td>\n",
       "      <td>![img](emote|t5_2th52|31224)</td>\n",
       "      <td>0.0</td>\n",
       "      <td>['img', ']', '[', 'emote|t5_2th52|31224']</td>\n",
       "    </tr>\n",
       "  </tbody>\n",
       "</table>\n",
       "<p>847 rows × 8 columns</p>\n",
       "</div>"
      ],
      "text/plain": [
       "        type             datetime         subreddit                author  \\\n",
       "0    comment  2025-04-11 17:29:56    wallstreetbets          StickyTip420   \n",
       "1    comment   2025-04-12 1:12:19    wallstreetbets  Comfortable-Dog-8437   \n",
       "2    comment  2025-04-10 15:09:41       StockMarket          Btankersly66   \n",
       "3       post  2023-08-30 17:12:55  stockstobuytoday             emiljenfn   \n",
       "4    comment  2025-04-11 14:48:05       StockMarket          Just-Big6411   \n",
       "..       ...                  ...               ...                   ...   \n",
       "842  comment   2021-06-30 4:06:06  stockstobuytoday   Ordinary-Office9180   \n",
       "843  comment   2025-04-11 5:01:24       StockMarket            lulububudu   \n",
       "844     post  2025-03-24 12:30:39  stockstobuytoday               saasfin   \n",
       "845  comment  2025-04-11 20:13:26    wallstreetbets          yes_ur_wrong   \n",
       "846  comment   2025-04-12 3:09:06    wallstreetbets           I_am_Nerman   \n",
       "\n",
       "     upvotes                                               text  sentiment  \\\n",
       "0          0                                   Calls on retards       -1.0   \n",
       "1        -15  Stunt as in like why did they even make a big ...        1.0   \n",
       "2          1                  Seeing lots of red in the ticker.        0.0   \n",
       "3         30  Vision Marine Technologies Inc. is rewriting t...        1.0   \n",
       "4          1                           He didn’t say thank you.        0.0   \n",
       "..       ...                                                ...        ...   \n",
       "842        1        Invest now it is going to shoot up tomorrow        0.0   \n",
       "843        2                             Where can I read this?        0.0   \n",
       "844        1  Upgrades, Downgrades\\r\\n\\r\\n [Stock Analyst Re...        0.0   \n",
       "845       10  i sold my puts so i expect cheeto to declare w...        0.0   \n",
       "846        1                       ![img](emote|t5_2th52|31224)        0.0   \n",
       "\n",
       "                                              entities  \n",
       "0                                                   []  \n",
       "1                ['Stunt', 'company', 'deal', 'place']  \n",
       "2                                           ['ticker']  \n",
       "3    ['watercraft', 'skill', 'power', ']', 'feat', ...  \n",
       "4                                                   []  \n",
       "..                                                 ...  \n",
       "842                                       ['tomorrow']  \n",
       "843                                                 []  \n",
       "844  ['Analyst', 'Nasdaq', 'Stock', 'Upgrades', 'Do...  \n",
       "845                  ['war', 'denmark', 'cheeto', 'i']  \n",
       "846          ['img', ']', '[', 'emote|t5_2th52|31224']  \n",
       "\n",
       "[847 rows x 8 columns]"
      ]
     },
     "execution_count": 164,
     "metadata": {},
     "output_type": "execute_result"
    }
   ],
   "source": [
    "df"
   ]
  },
  {
   "cell_type": "markdown",
   "metadata": {},
   "source": [
    "5. Create new column that define the sentiments based on the value. -1 is bearish, 0 is neutral, and 1 is bullish"
   ]
  },
  {
   "cell_type": "code",
   "execution_count": 165,
   "metadata": {},
   "outputs": [],
   "source": [
    "df['sentiment_label'] = df['sentiment'].map({-1.0: 'Negative', 0.0: 'Neutral', 1.0: 'Posittive'}) # add new sentiment_label column"
   ]
  },
  {
   "cell_type": "code",
   "execution_count": 166,
   "metadata": {},
   "outputs": [
    {
     "data": {
      "text/html": [
       "<div>\n",
       "<style scoped>\n",
       "    .dataframe tbody tr th:only-of-type {\n",
       "        vertical-align: middle;\n",
       "    }\n",
       "\n",
       "    .dataframe tbody tr th {\n",
       "        vertical-align: top;\n",
       "    }\n",
       "\n",
       "    .dataframe thead th {\n",
       "        text-align: right;\n",
       "    }\n",
       "</style>\n",
       "<table border=\"1\" class=\"dataframe\">\n",
       "  <thead>\n",
       "    <tr style=\"text-align: right;\">\n",
       "      <th></th>\n",
       "      <th>type</th>\n",
       "      <th>datetime</th>\n",
       "      <th>subreddit</th>\n",
       "      <th>author</th>\n",
       "      <th>upvotes</th>\n",
       "      <th>text</th>\n",
       "      <th>sentiment</th>\n",
       "      <th>entities</th>\n",
       "      <th>sentiment_label</th>\n",
       "    </tr>\n",
       "  </thead>\n",
       "  <tbody>\n",
       "    <tr>\n",
       "      <th>0</th>\n",
       "      <td>comment</td>\n",
       "      <td>2025-04-11 17:29:56</td>\n",
       "      <td>wallstreetbets</td>\n",
       "      <td>StickyTip420</td>\n",
       "      <td>0</td>\n",
       "      <td>Calls on retards</td>\n",
       "      <td>-1.0</td>\n",
       "      <td>[]</td>\n",
       "      <td>Negative</td>\n",
       "    </tr>\n",
       "    <tr>\n",
       "      <th>1</th>\n",
       "      <td>comment</td>\n",
       "      <td>2025-04-12 1:12:19</td>\n",
       "      <td>wallstreetbets</td>\n",
       "      <td>Comfortable-Dog-8437</td>\n",
       "      <td>-15</td>\n",
       "      <td>Stunt as in like why did they even make a big ...</td>\n",
       "      <td>1.0</td>\n",
       "      <td>['Stunt', 'company', 'deal', 'place']</td>\n",
       "      <td>Posittive</td>\n",
       "    </tr>\n",
       "    <tr>\n",
       "      <th>2</th>\n",
       "      <td>comment</td>\n",
       "      <td>2025-04-10 15:09:41</td>\n",
       "      <td>StockMarket</td>\n",
       "      <td>Btankersly66</td>\n",
       "      <td>1</td>\n",
       "      <td>Seeing lots of red in the ticker.</td>\n",
       "      <td>0.0</td>\n",
       "      <td>['ticker']</td>\n",
       "      <td>Neutral</td>\n",
       "    </tr>\n",
       "    <tr>\n",
       "      <th>3</th>\n",
       "      <td>post</td>\n",
       "      <td>2023-08-30 17:12:55</td>\n",
       "      <td>stockstobuytoday</td>\n",
       "      <td>emiljenfn</td>\n",
       "      <td>30</td>\n",
       "      <td>Vision Marine Technologies Inc. is rewriting t...</td>\n",
       "      <td>1.0</td>\n",
       "      <td>['watercraft', 'skill', 'power', ']', 'feat', ...</td>\n",
       "      <td>Posittive</td>\n",
       "    </tr>\n",
       "    <tr>\n",
       "      <th>4</th>\n",
       "      <td>comment</td>\n",
       "      <td>2025-04-11 14:48:05</td>\n",
       "      <td>StockMarket</td>\n",
       "      <td>Just-Big6411</td>\n",
       "      <td>1</td>\n",
       "      <td>He didn’t say thank you.</td>\n",
       "      <td>0.0</td>\n",
       "      <td>[]</td>\n",
       "      <td>Neutral</td>\n",
       "    </tr>\n",
       "    <tr>\n",
       "      <th>...</th>\n",
       "      <td>...</td>\n",
       "      <td>...</td>\n",
       "      <td>...</td>\n",
       "      <td>...</td>\n",
       "      <td>...</td>\n",
       "      <td>...</td>\n",
       "      <td>...</td>\n",
       "      <td>...</td>\n",
       "      <td>...</td>\n",
       "    </tr>\n",
       "    <tr>\n",
       "      <th>842</th>\n",
       "      <td>comment</td>\n",
       "      <td>2021-06-30 4:06:06</td>\n",
       "      <td>stockstobuytoday</td>\n",
       "      <td>Ordinary-Office9180</td>\n",
       "      <td>1</td>\n",
       "      <td>Invest now it is going to shoot up tomorrow</td>\n",
       "      <td>0.0</td>\n",
       "      <td>['tomorrow']</td>\n",
       "      <td>Neutral</td>\n",
       "    </tr>\n",
       "    <tr>\n",
       "      <th>843</th>\n",
       "      <td>comment</td>\n",
       "      <td>2025-04-11 5:01:24</td>\n",
       "      <td>StockMarket</td>\n",
       "      <td>lulububudu</td>\n",
       "      <td>2</td>\n",
       "      <td>Where can I read this?</td>\n",
       "      <td>0.0</td>\n",
       "      <td>[]</td>\n",
       "      <td>Neutral</td>\n",
       "    </tr>\n",
       "    <tr>\n",
       "      <th>844</th>\n",
       "      <td>post</td>\n",
       "      <td>2025-03-24 12:30:39</td>\n",
       "      <td>stockstobuytoday</td>\n",
       "      <td>saasfin</td>\n",
       "      <td>1</td>\n",
       "      <td>Upgrades, Downgrades\\r\\n\\r\\n [Stock Analyst Re...</td>\n",
       "      <td>0.0</td>\n",
       "      <td>['Analyst', 'Nasdaq', 'Stock', 'Upgrades', 'Do...</td>\n",
       "      <td>Neutral</td>\n",
       "    </tr>\n",
       "    <tr>\n",
       "      <th>845</th>\n",
       "      <td>comment</td>\n",
       "      <td>2025-04-11 20:13:26</td>\n",
       "      <td>wallstreetbets</td>\n",
       "      <td>yes_ur_wrong</td>\n",
       "      <td>10</td>\n",
       "      <td>i sold my puts so i expect cheeto to declare w...</td>\n",
       "      <td>0.0</td>\n",
       "      <td>['war', 'denmark', 'cheeto', 'i']</td>\n",
       "      <td>Neutral</td>\n",
       "    </tr>\n",
       "    <tr>\n",
       "      <th>846</th>\n",
       "      <td>comment</td>\n",
       "      <td>2025-04-12 3:09:06</td>\n",
       "      <td>wallstreetbets</td>\n",
       "      <td>I_am_Nerman</td>\n",
       "      <td>1</td>\n",
       "      <td>![img](emote|t5_2th52|31224)</td>\n",
       "      <td>0.0</td>\n",
       "      <td>['img', ']', '[', 'emote|t5_2th52|31224']</td>\n",
       "      <td>Neutral</td>\n",
       "    </tr>\n",
       "  </tbody>\n",
       "</table>\n",
       "<p>847 rows × 9 columns</p>\n",
       "</div>"
      ],
      "text/plain": [
       "        type             datetime         subreddit                author  \\\n",
       "0    comment  2025-04-11 17:29:56    wallstreetbets          StickyTip420   \n",
       "1    comment   2025-04-12 1:12:19    wallstreetbets  Comfortable-Dog-8437   \n",
       "2    comment  2025-04-10 15:09:41       StockMarket          Btankersly66   \n",
       "3       post  2023-08-30 17:12:55  stockstobuytoday             emiljenfn   \n",
       "4    comment  2025-04-11 14:48:05       StockMarket          Just-Big6411   \n",
       "..       ...                  ...               ...                   ...   \n",
       "842  comment   2021-06-30 4:06:06  stockstobuytoday   Ordinary-Office9180   \n",
       "843  comment   2025-04-11 5:01:24       StockMarket            lulububudu   \n",
       "844     post  2025-03-24 12:30:39  stockstobuytoday               saasfin   \n",
       "845  comment  2025-04-11 20:13:26    wallstreetbets          yes_ur_wrong   \n",
       "846  comment   2025-04-12 3:09:06    wallstreetbets           I_am_Nerman   \n",
       "\n",
       "     upvotes                                               text  sentiment  \\\n",
       "0          0                                   Calls on retards       -1.0   \n",
       "1        -15  Stunt as in like why did they even make a big ...        1.0   \n",
       "2          1                  Seeing lots of red in the ticker.        0.0   \n",
       "3         30  Vision Marine Technologies Inc. is rewriting t...        1.0   \n",
       "4          1                           He didn’t say thank you.        0.0   \n",
       "..       ...                                                ...        ...   \n",
       "842        1        Invest now it is going to shoot up tomorrow        0.0   \n",
       "843        2                             Where can I read this?        0.0   \n",
       "844        1  Upgrades, Downgrades\\r\\n\\r\\n [Stock Analyst Re...        0.0   \n",
       "845       10  i sold my puts so i expect cheeto to declare w...        0.0   \n",
       "846        1                       ![img](emote|t5_2th52|31224)        0.0   \n",
       "\n",
       "                                              entities sentiment_label  \n",
       "0                                                   []        Negative  \n",
       "1                ['Stunt', 'company', 'deal', 'place']       Posittive  \n",
       "2                                           ['ticker']         Neutral  \n",
       "3    ['watercraft', 'skill', 'power', ']', 'feat', ...       Posittive  \n",
       "4                                                   []         Neutral  \n",
       "..                                                 ...             ...  \n",
       "842                                       ['tomorrow']         Neutral  \n",
       "843                                                 []         Neutral  \n",
       "844  ['Analyst', 'Nasdaq', 'Stock', 'Upgrades', 'Do...         Neutral  \n",
       "845                  ['war', 'denmark', 'cheeto', 'i']         Neutral  \n",
       "846          ['img', ']', '[', 'emote|t5_2th52|31224']         Neutral  \n",
       "\n",
       "[847 rows x 9 columns]"
      ]
     },
     "execution_count": 166,
     "metadata": {},
     "output_type": "execute_result"
    }
   ],
   "source": [
    "df"
   ]
  },
  {
   "cell_type": "markdown",
   "metadata": {},
   "source": [
    "6. Create sample dataset "
   ]
  },
  {
   "cell_type": "code",
   "execution_count": 167,
   "metadata": {},
   "outputs": [],
   "source": [
    "df_sample = df.sample(n=400, random_state=42) #random state"
   ]
  },
  {
   "cell_type": "code",
   "execution_count": 168,
   "metadata": {},
   "outputs": [
    {
     "data": {
      "text/plain": [
       "400"
      ]
     },
     "execution_count": 168,
     "metadata": {},
     "output_type": "execute_result"
    }
   ],
   "source": [
    "len(df_sample)"
   ]
  },
  {
   "cell_type": "code",
   "execution_count": 169,
   "metadata": {},
   "outputs": [
    {
     "data": {
      "text/html": [
       "<div>\n",
       "<style scoped>\n",
       "    .dataframe tbody tr th:only-of-type {\n",
       "        vertical-align: middle;\n",
       "    }\n",
       "\n",
       "    .dataframe tbody tr th {\n",
       "        vertical-align: top;\n",
       "    }\n",
       "\n",
       "    .dataframe thead th {\n",
       "        text-align: right;\n",
       "    }\n",
       "</style>\n",
       "<table border=\"1\" class=\"dataframe\">\n",
       "  <thead>\n",
       "    <tr style=\"text-align: right;\">\n",
       "      <th></th>\n",
       "      <th>type</th>\n",
       "      <th>datetime</th>\n",
       "      <th>subreddit</th>\n",
       "      <th>author</th>\n",
       "      <th>upvotes</th>\n",
       "      <th>text</th>\n",
       "      <th>sentiment</th>\n",
       "      <th>entities</th>\n",
       "      <th>sentiment_label</th>\n",
       "    </tr>\n",
       "  </thead>\n",
       "  <tbody>\n",
       "    <tr>\n",
       "      <th>457</th>\n",
       "      <td>comment</td>\n",
       "      <td>2025-04-11 15:42:58</td>\n",
       "      <td>StockMarket</td>\n",
       "      <td>IamNotaMonkeyRobot</td>\n",
       "      <td>1</td>\n",
       "      <td>\"We\" who?</td>\n",
       "      <td>0.0</td>\n",
       "      <td>[]</td>\n",
       "      <td>Neutral</td>\n",
       "    </tr>\n",
       "    <tr>\n",
       "      <th>342</th>\n",
       "      <td>comment</td>\n",
       "      <td>2025-04-12 3:04:05</td>\n",
       "      <td>wallstreetbets</td>\n",
       "      <td>iPlayedHockeInHS</td>\n",
       "      <td>1</td>\n",
       "      <td>Chicken jockey</td>\n",
       "      <td>-1.0</td>\n",
       "      <td>['jockey', 'Chicken']</td>\n",
       "      <td>Negative</td>\n",
       "    </tr>\n",
       "    <tr>\n",
       "      <th>280</th>\n",
       "      <td>comment</td>\n",
       "      <td>2025-04-10 14:40:26</td>\n",
       "      <td>StockMarket</td>\n",
       "      <td>Narradisall</td>\n",
       "      <td>2</td>\n",
       "      <td>Not great Bob</td>\n",
       "      <td>1.0</td>\n",
       "      <td>['Bob']</td>\n",
       "      <td>Posittive</td>\n",
       "    </tr>\n",
       "    <tr>\n",
       "      <th>275</th>\n",
       "      <td>comment</td>\n",
       "      <td>2025-04-12 2:27:29</td>\n",
       "      <td>wallstreetbets</td>\n",
       "      <td>ChristianLS</td>\n",
       "      <td>1</td>\n",
       "      <td>Speak for yourself, my wife is being harder on...</td>\n",
       "      <td>1.0</td>\n",
       "      <td>['BBQ', 'potato', 'anime', 'wife', 'level', 'S...</td>\n",
       "      <td>Posittive</td>\n",
       "    </tr>\n",
       "  </tbody>\n",
       "</table>\n",
       "</div>"
      ],
      "text/plain": [
       "        type             datetime       subreddit              author  \\\n",
       "457  comment  2025-04-11 15:42:58     StockMarket  IamNotaMonkeyRobot   \n",
       "342  comment   2025-04-12 3:04:05  wallstreetbets    iPlayedHockeInHS   \n",
       "280  comment  2025-04-10 14:40:26     StockMarket         Narradisall   \n",
       "275  comment   2025-04-12 2:27:29  wallstreetbets         ChristianLS   \n",
       "\n",
       "     upvotes                                               text  sentiment  \\\n",
       "457        1                                          \"We\" who?        0.0   \n",
       "342        1                                     Chicken jockey       -1.0   \n",
       "280        2                                      Not great Bob        1.0   \n",
       "275        1  Speak for yourself, my wife is being harder on...        1.0   \n",
       "\n",
       "                                              entities sentiment_label  \n",
       "457                                                 []         Neutral  \n",
       "342                              ['jockey', 'Chicken']        Negative  \n",
       "280                                            ['Bob']       Posittive  \n",
       "275  ['BBQ', 'potato', 'anime', 'wife', 'level', 'S...       Posittive  "
      ]
     },
     "execution_count": 169,
     "metadata": {},
     "output_type": "execute_result"
    }
   ],
   "source": [
    "df_sample[0:4]"
   ]
  },
  {
   "cell_type": "code",
   "execution_count": 170,
   "metadata": {},
   "outputs": [
    {
     "name": "stdout",
     "output_type": "stream",
     "text": [
      "Subreddit distribution in X:\n",
      "subreddit\n",
      "stocks              274\n",
      "StockMarket         250\n",
      "stockstobuytoday    174\n",
      "wallstreetbets      149\n",
      "Name: count, dtype: int64\n",
      "Subreddit distribution in X_sample:\n",
      "subreddit\n",
      "stocks              127\n",
      "StockMarket         114\n",
      "stockstobuytoday     88\n",
      "wallstreetbets       71\n",
      "Name: count, dtype: int64\n"
     ]
    }
   ],
   "source": [
    "# Compare category distributions\n",
    "print(\"Subreddit distribution in X:\")\n",
    "print(df['subreddit'].value_counts())\n",
    "\n",
    "print(\"Subreddit distribution in X_sample:\")\n",
    "print(df_sample['subreddit'].value_counts())"
   ]
  },
  {
   "cell_type": "markdown",
   "metadata": {},
   "source": [
    "Exercise 6"
   ]
  },
  {
   "cell_type": "code",
   "execution_count": 171,
   "metadata": {},
   "outputs": [],
   "source": [
    "# df_sample is created by randomly selecting 1,000 rows from df, so its content changes with each run\n",
    "# The rows in df_sample are shuffled, meaning their order differs from the original dataset df\n",
    "# Since df_sample contains only 1,000 rows, the total count of each category in df_sample differs from df\n",
    "# Random sampling can cause category proportions in df_sample to deviate slightly from those in df"
   ]
  },
  {
   "cell_type": "markdown",
   "metadata": {},
   "source": [
    "7. Create bar plot for the subreddit of df, df_sample, and comparison bar plot for both datasets"
   ]
  },
  {
   "cell_type": "markdown",
   "metadata": {},
   "source": [
    "Exercise 7"
   ]
  },
  {
   "cell_type": "code",
   "execution_count": 172,
   "metadata": {},
   "outputs": [
    {
     "name": "stdout",
     "output_type": "stream",
     "text": [
      "subreddit\n",
      "stocks              274\n",
      "StockMarket         250\n",
      "stockstobuytoday    174\n",
      "wallstreetbets      149\n",
      "Name: count, dtype: int64\n"
     ]
    },
    {
     "data": {
      "text/plain": [
       "<Axes: title={'center': 'Subreddit distribution'}, xlabel='subreddit'>"
      ]
     },
     "execution_count": 172,
     "metadata": {},
     "output_type": "execute_result"
    },
    {
     "data": {
      "image/png": "[encoded data removed]",
      "text/plain": [
       "<Figure size 800x300 with 1 Axes>"
      ]
     },
     "metadata": {},
     "output_type": "display_data"
    }
   ],
   "source": [
    "import matplotlib.pyplot as plt\n",
    "\n",
    "print(df.subreddit.value_counts())\n",
    "\n",
    "# This is the bar plot for df \n",
    "# plot barchart for X\n",
    "df['subreddit'].value_counts().plot(kind = 'bar',\n",
    "                                title = 'Subreddit distribution',\n",
    "                                # the y limit is based on the highest count of df subreddit plus the offset\n",
    "                                ylim = [0, df.subreddit.value_counts().max()+30],        \n",
    "                                rot = 0, fontsize = 11, figsize = (8,3))"
   ]
  },
  {
   "cell_type": "code",
   "execution_count": 173,
   "metadata": {},
   "outputs": [
    {
     "name": "stdout",
     "output_type": "stream",
     "text": [
      "subreddit\n",
      "stocks              274\n",
      "StockMarket         250\n",
      "stockstobuytoday    174\n",
      "wallstreetbets      149\n",
      "Name: count, dtype: int64\n"
     ]
    },
    {
     "data": {
      "text/plain": [
       "<Axes: title={'center': 'Subreddit distribution'}, xlabel='subreddit'>"
      ]
     },
     "execution_count": 173,
     "metadata": {},
     "output_type": "execute_result"
    },
    {
     "data": {
      "image/png": "[encoded data removed]",
      "text/plain": [
       "<Figure size 800x300 with 1 Axes>"
      ]
     },
     "metadata": {},
     "output_type": "display_data"
    }
   ],
   "source": [
    "print(df.subreddit.value_counts())\n",
    "\n",
    "# plot barchart for X\n",
    "df_sample['subreddit'].value_counts().plot(kind = 'bar',\n",
    "                                title = 'Subreddit distribution',\n",
    "                                # the y limit is based on the highest count of df subreddit plus the offset\n",
    "                                ylim = [0, df_sample.subreddit.value_counts().max()+30],        \n",
    "                                rot = 0, fontsize = 11, figsize = (8,3))"
   ]
  },
  {
   "cell_type": "markdown",
   "metadata": {},
   "source": [
    "Exercise 8"
   ]
  },
  {
   "cell_type": "code",
   "execution_count": 174,
   "metadata": {},
   "outputs": [
    {
     "name": "stdout",
     "output_type": "stream",
     "text": [
      "                   df  df_sample\n",
      "subreddit                       \n",
      "stocks            274        127\n",
      "StockMarket       250        114\n",
      "stockstobuytoday  174         88\n",
      "wallstreetbets    149         71\n"
     ]
    },
    {
     "data": {
      "image/png": "[encoded data removed]",
      "text/plain": [
       "<Figure size 700x500 with 1 Axes>"
      ]
     },
     "metadata": {},
     "output_type": "display_data"
    }
   ],
   "source": [
    "# Answer here\n",
    "df_all = pd.DataFrame ({\n",
    "    'df': df['subreddit'].value_counts(),\n",
    "    'df_sample': df_sample['subreddit'].value_counts()})\n",
    "\n",
    "print(df_all)\n",
    "\n",
    "df_all.plot(\n",
    "    kind = 'bar',\n",
    "    title = 'Subreddit distribution',\n",
    "    ylim = [0, df.subreddit.value_counts().max()+50], \n",
    "    rot = 0, fontsize = 12, figsize = (7,5))\n",
    "\n",
    "plt.show()"
   ]
  },
  {
   "cell_type": "code",
   "execution_count": 175,
   "metadata": {},
   "outputs": [
    {
     "name": "stderr",
     "output_type": "stream",
     "text": [
      "[nltk_data] Downloading package stopwords to\n",
      "[nltk_data]     C:\\Users\\BK\\AppData\\Roaming\\nltk_data...\n",
      "[nltk_data]   Package stopwords is already up-to-date!\n",
      "[nltk_data] Downloading package punkt to\n",
      "[nltk_data]     C:\\Users\\BK\\AppData\\Roaming\\nltk_data...\n",
      "[nltk_data]   Package punkt is already up-to-date!\n"
     ]
    },
    {
     "data": {
      "text/plain": [
       "True"
      ]
     },
     "execution_count": 175,
     "metadata": {},
     "output_type": "execute_result"
    }
   ],
   "source": [
    "import helpers.data_mining_helpers as dmh\n",
    "\n",
    "nltk.download('stopwords')\n",
    "nltk.download('punkt') "
   ]
  },
  {
   "cell_type": "code",
   "execution_count": 176,
   "metadata": {},
   "outputs": [
    {
     "name": "stdout",
     "output_type": "stream",
     "text": [
      "def tokenize_text_subreddit(text):\n",
      "    stop_words = set(stopwords.words('english'))\n",
      "    tokens = []\n",
      "    for sentence in nltk.sent_tokenize(text):\n",
      "        for word in nltk.word_tokenize(sentence):\n",
      "            if word.isalpha() and word.lower() not in stop_words:\n",
      "                tokens.append(word)\n",
      "    return tokens\n",
      "\n"
     ]
    }
   ],
   "source": [
    "import inspect\n",
    "# This is for inspecting whether the function in dmh has been updated\n",
    "print(inspect.getsource(dmh.tokenize_text_subreddit))"
   ]
  },
  {
   "cell_type": "markdown",
   "metadata": {},
   "source": [
    "8. add unigrams column in dataset to seperate every word from the text"
   ]
  },
  {
   "cell_type": "code",
   "execution_count": 177,
   "metadata": {
    "scrolled": true
   },
   "outputs": [],
   "source": [
    "df['unigrams'] = df['text'].apply(lambda x: dmh.tokenize_text_subreddit(x))"
   ]
  },
  {
   "cell_type": "code",
   "execution_count": 178,
   "metadata": {},
   "outputs": [
    {
     "data": {
      "text/html": [
       "<div>\n",
       "<style scoped>\n",
       "    .dataframe tbody tr th:only-of-type {\n",
       "        vertical-align: middle;\n",
       "    }\n",
       "\n",
       "    .dataframe tbody tr th {\n",
       "        vertical-align: top;\n",
       "    }\n",
       "\n",
       "    .dataframe thead th {\n",
       "        text-align: right;\n",
       "    }\n",
       "</style>\n",
       "<table border=\"1\" class=\"dataframe\">\n",
       "  <thead>\n",
       "    <tr style=\"text-align: right;\">\n",
       "      <th></th>\n",
       "      <th>type</th>\n",
       "      <th>datetime</th>\n",
       "      <th>subreddit</th>\n",
       "      <th>author</th>\n",
       "      <th>upvotes</th>\n",
       "      <th>text</th>\n",
       "      <th>sentiment</th>\n",
       "      <th>entities</th>\n",
       "      <th>sentiment_label</th>\n",
       "      <th>unigrams</th>\n",
       "    </tr>\n",
       "  </thead>\n",
       "  <tbody>\n",
       "    <tr>\n",
       "      <th>0</th>\n",
       "      <td>comment</td>\n",
       "      <td>2025-04-11 17:29:56</td>\n",
       "      <td>wallstreetbets</td>\n",
       "      <td>StickyTip420</td>\n",
       "      <td>0</td>\n",
       "      <td>Calls on retards</td>\n",
       "      <td>-1.0</td>\n",
       "      <td>[]</td>\n",
       "      <td>Negative</td>\n",
       "      <td>[Calls, retards]</td>\n",
       "    </tr>\n",
       "    <tr>\n",
       "      <th>1</th>\n",
       "      <td>comment</td>\n",
       "      <td>2025-04-12 1:12:19</td>\n",
       "      <td>wallstreetbets</td>\n",
       "      <td>Comfortable-Dog-8437</td>\n",
       "      <td>-15</td>\n",
       "      <td>Stunt as in like why did they even make a big ...</td>\n",
       "      <td>1.0</td>\n",
       "      <td>['Stunt', 'company', 'deal', 'place']</td>\n",
       "      <td>Posittive</td>\n",
       "      <td>[Stunt, like, even, make, big, deal, starting,...</td>\n",
       "    </tr>\n",
       "    <tr>\n",
       "      <th>2</th>\n",
       "      <td>comment</td>\n",
       "      <td>2025-04-10 15:09:41</td>\n",
       "      <td>StockMarket</td>\n",
       "      <td>Btankersly66</td>\n",
       "      <td>1</td>\n",
       "      <td>Seeing lots of red in the ticker.</td>\n",
       "      <td>0.0</td>\n",
       "      <td>['ticker']</td>\n",
       "      <td>Neutral</td>\n",
       "      <td>[Seeing, lots, red, ticker]</td>\n",
       "    </tr>\n",
       "    <tr>\n",
       "      <th>3</th>\n",
       "      <td>post</td>\n",
       "      <td>2023-08-30 17:12:55</td>\n",
       "      <td>stockstobuytoday</td>\n",
       "      <td>emiljenfn</td>\n",
       "      <td>30</td>\n",
       "      <td>Vision Marine Technologies Inc. is rewriting t...</td>\n",
       "      <td>1.0</td>\n",
       "      <td>['watercraft', 'skill', 'power', ']', 'feat', ...</td>\n",
       "      <td>Posittive</td>\n",
       "      <td>[Vision, Marine, Technologies, rewriting, wate...</td>\n",
       "    </tr>\n",
       "    <tr>\n",
       "      <th>4</th>\n",
       "      <td>comment</td>\n",
       "      <td>2025-04-11 14:48:05</td>\n",
       "      <td>StockMarket</td>\n",
       "      <td>Just-Big6411</td>\n",
       "      <td>1</td>\n",
       "      <td>He didn’t say thank you.</td>\n",
       "      <td>0.0</td>\n",
       "      <td>[]</td>\n",
       "      <td>Neutral</td>\n",
       "      <td>[say, thank]</td>\n",
       "    </tr>\n",
       "  </tbody>\n",
       "</table>\n",
       "</div>"
      ],
      "text/plain": [
       "      type             datetime         subreddit                author  \\\n",
       "0  comment  2025-04-11 17:29:56    wallstreetbets          StickyTip420   \n",
       "1  comment   2025-04-12 1:12:19    wallstreetbets  Comfortable-Dog-8437   \n",
       "2  comment  2025-04-10 15:09:41       StockMarket          Btankersly66   \n",
       "3     post  2023-08-30 17:12:55  stockstobuytoday             emiljenfn   \n",
       "4  comment  2025-04-11 14:48:05       StockMarket          Just-Big6411   \n",
       "\n",
       "   upvotes                                               text  sentiment  \\\n",
       "0        0                                   Calls on retards       -1.0   \n",
       "1      -15  Stunt as in like why did they even make a big ...        1.0   \n",
       "2        1                  Seeing lots of red in the ticker.        0.0   \n",
       "3       30  Vision Marine Technologies Inc. is rewriting t...        1.0   \n",
       "4        1                           He didn’t say thank you.        0.0   \n",
       "\n",
       "                                            entities sentiment_label  \\\n",
       "0                                                 []        Negative   \n",
       "1              ['Stunt', 'company', 'deal', 'place']       Posittive   \n",
       "2                                         ['ticker']         Neutral   \n",
       "3  ['watercraft', 'skill', 'power', ']', 'feat', ...       Posittive   \n",
       "4                                                 []         Neutral   \n",
       "\n",
       "                                            unigrams  \n",
       "0                                   [Calls, retards]  \n",
       "1  [Stunt, like, even, make, big, deal, starting,...  \n",
       "2                        [Seeing, lots, red, ticker]  \n",
       "3  [Vision, Marine, Technologies, rewriting, wate...  \n",
       "4                                       [say, thank]  "
      ]
     },
     "execution_count": 178,
     "metadata": {},
     "output_type": "execute_result"
    }
   ],
   "source": [
    "df.head()"
   ]
  },
  {
   "cell_type": "code",
   "execution_count": 179,
   "metadata": {},
   "outputs": [
    {
     "data": {
      "text/plain": [
       "['Stunt',\n",
       " 'like',\n",
       " 'even',\n",
       " 'make',\n",
       " 'big',\n",
       " 'deal',\n",
       " 'starting',\n",
       " 'first',\n",
       " 'place',\n",
       " 'company',\n",
       " 'ever',\n",
       " 'talk',\n",
       " 'politics',\n",
       " 'ever']"
      ]
     },
     "execution_count": 179,
     "metadata": {},
     "output_type": "execute_result"
    }
   ],
   "source": [
    "df.loc[1, 'unigrams']"
   ]
  },
  {
   "cell_type": "markdown",
   "metadata": {},
   "source": [
    "9. Transform df['text'] into a matrix of word counts to be used for terms visualization"
   ]
  },
  {
   "cell_type": "code",
   "execution_count": 180,
   "metadata": {},
   "outputs": [
    {
     "name": "stderr",
     "output_type": "stream",
     "text": [
      "C:\\Users\\BK\\Data_Mining\\DM2025-Lab1-Exercise\\.venv\\Lib\\site-packages\\sklearn\\feature_extraction\\text.py:517: UserWarning:\n",
      "\n",
      "The parameter 'token_pattern' will not be used since 'tokenizer' is not None'\n",
      "\n"
     ]
    }
   ],
   "source": [
    "from sklearn.feature_extraction.text import CountVectorizer\n",
    "\n",
    "# Remove stop_words and punctuation\n",
    "count_vect = CountVectorizer(tokenizer=dmh.tokenize_text_subreddit)\n",
    "df_counts = count_vect.fit_transform(df['text'])"
   ]
  },
  {
   "cell_type": "code",
   "execution_count": 181,
   "metadata": {},
   "outputs": [
    {
     "name": "stdout",
     "output_type": "stream",
     "text": [
      "unwinding\n",
      "appointments\n",
      "community\n"
     ]
    }
   ],
   "source": [
    "print(count_vect.get_feature_names_out()[3696])\n",
    "print(count_vect.get_feature_names_out()[175])\n",
    "print(count_vect.get_feature_names_out()[675])"
   ]
  },
  {
   "cell_type": "markdown",
   "metadata": {},
   "source": [
    "Exercise 9"
   ]
  },
  {
   "cell_type": "code",
   "execution_count": 182,
   "metadata": {},
   "outputs": [
    {
     "data": {
      "text/plain": [
       "['stunt',\n",
       " 'like',\n",
       " 'even',\n",
       " 'make',\n",
       " 'big',\n",
       " 'deal',\n",
       " 'starting',\n",
       " 'first',\n",
       " 'place',\n",
       " 'company',\n",
       " 'ever',\n",
       " 'talk',\n",
       " 'politics',\n",
       " 'ever']"
      ]
     },
     "execution_count": 182,
     "metadata": {},
     "output_type": "execute_result"
    }
   ],
   "source": [
    "analyze = count_vect.build_analyzer()\n",
    "analyze(df.text[1])"
   ]
  },
  {
   "cell_type": "markdown",
   "metadata": {},
   "source": [
    "Exercise 10"
   ]
  },
  {
   "cell_type": "code",
   "execution_count": 183,
   "metadata": {},
   "outputs": [
    {
     "data": {
      "text/plain": [
       "array([[0, 0, 0, 0, 0, 0, 0, 0, 0, 0, 0, 0, 0, 0, 0, 0, 0, 0, 0, 0, 0, 0,\n",
       "        0, 0, 0, 0, 0, 0, 0, 0, 0, 0, 0, 0, 0, 0, 0, 0, 0, 0, 0, 0, 0, 0,\n",
       "        0, 0, 0, 0, 0, 0, 0, 0, 0, 0, 0, 0, 0, 0, 0, 0, 0, 0, 0, 0, 0, 0,\n",
       "        0, 0, 0, 0, 0, 0, 0, 0, 0, 0, 0, 0, 0, 0, 0, 0, 0, 0, 0, 0, 0, 0,\n",
       "        0, 0, 0, 0, 0, 0, 0, 0, 0, 0, 0, 0],\n",
       "       [0, 0, 0, 0, 0, 0, 0, 0, 0, 0, 0, 0, 0, 0, 0, 0, 0, 0, 0, 0, 0, 0,\n",
       "        0, 0, 0, 0, 0, 0, 0, 0, 0, 0, 0, 0, 0, 0, 0, 0, 0, 0, 0, 0, 0, 0,\n",
       "        0, 0, 0, 0, 0, 0, 0, 0, 0, 0, 0, 0, 0, 0, 0, 0, 0, 0, 0, 0, 0, 0,\n",
       "        0, 0, 0, 0, 0, 0, 0, 0, 0, 0, 0, 0, 0, 0, 0, 0, 0, 0, 0, 0, 0, 0,\n",
       "        0, 0, 0, 0, 0, 0, 0, 0, 0, 0, 0, 0],\n",
       "       [0, 0, 0, 0, 0, 0, 0, 0, 0, 0, 0, 0, 0, 0, 0, 0, 0, 0, 0, 0, 0, 0,\n",
       "        0, 0, 0, 0, 0, 0, 0, 0, 0, 0, 0, 0, 0, 0, 0, 0, 0, 0, 0, 0, 0, 0,\n",
       "        0, 0, 0, 0, 0, 0, 0, 0, 0, 0, 0, 0, 0, 0, 0, 0, 0, 0, 0, 0, 0, 0,\n",
       "        0, 0, 0, 0, 0, 0, 0, 0, 0, 0, 0, 0, 0, 0, 0, 0, 0, 0, 0, 0, 0, 0,\n",
       "        0, 0, 0, 0, 0, 0, 0, 0, 0, 0, 0, 0],\n",
       "       [0, 0, 0, 0, 0, 0, 0, 0, 0, 0, 0, 0, 0, 0, 0, 0, 0, 0, 0, 0, 0, 1,\n",
       "        1, 1, 0, 0, 0, 0, 0, 0, 0, 0, 0, 0, 0, 0, 0, 0, 0, 0, 0, 0, 0, 0,\n",
       "        0, 0, 0, 0, 0, 0, 0, 0, 0, 0, 0, 0, 0, 0, 0, 0, 0, 0, 0, 0, 0, 0,\n",
       "        0, 0, 0, 0, 0, 0, 0, 0, 0, 0, 0, 0, 0, 0, 0, 0, 0, 0, 0, 0, 0, 0,\n",
       "        0, 0, 0, 0, 0, 0, 0, 0, 0, 0, 0, 0],\n",
       "       [0, 0, 0, 0, 0, 0, 0, 0, 0, 0, 0, 0, 0, 0, 0, 0, 0, 0, 0, 0, 0, 0,\n",
       "        0, 0, 0, 0, 0, 0, 0, 0, 0, 0, 0, 0, 0, 0, 0, 0, 0, 0, 0, 0, 0, 0,\n",
       "        0, 0, 0, 0, 0, 0, 0, 0, 0, 0, 0, 0, 0, 0, 0, 0, 0, 0, 0, 0, 0, 0,\n",
       "        0, 0, 0, 0, 0, 0, 0, 0, 0, 0, 0, 0, 0, 0, 0, 0, 0, 0, 0, 0, 0, 0,\n",
       "        0, 0, 0, 0, 0, 0, 0, 0, 0, 0, 0, 0]])"
      ]
     },
     "execution_count": 183,
     "metadata": {},
     "output_type": "execute_result"
    }
   ],
   "source": [
    "df_counts[0:5, 0:100].toarray()"
   ]
  },
  {
   "cell_type": "code",
   "execution_count": 184,
   "metadata": {},
   "outputs": [
    {
     "name": "stdout",
     "output_type": "stream",
     "text": [
      "The third 1 in the third record (by column order) represents the term 'achievement' at position 22\n"
     ]
    }
   ],
   "source": [
    "third_record = df_counts[3, :100]\n",
    "\n",
    "#When you slice columns like :100, you're creating a new sparse submatrix that only includes columns 0 through 99.\n",
    "# Now, when you call .nonzero() on this sliced view, the resulting column indices are relative to the slice, \n",
    "# and — crucially — SciPy often returns them in sorted order for small, contiguous slices, \n",
    "# especially when the underlying format is CSR (Compressed Sparse Row).\n",
    "# So for X_counts[4, :100].nonzero()[1], you get something like [0, 37] — sorted,\n",
    "# and relative to the slice (so 37 means global column 37).\n",
    "\n",
    "#X_counts[4] → not sorted\n",
    "# This returns a (1, n_features) sparse matrix (a row vector).\n",
    "# Now, when you call .nonzero() on it, you get all non-zero column indices in the entire row.\n",
    "# Even though CSR format stores column indices in sorted order per row, there’s a catch:\n",
    "# When you index a single row like X_counts[4], SciPy may return a sparse matrix in a different format (e.g., COO), \n",
    "# or preserve the internal order but not guarantee sorted output from .nonzero() in all contexts. \n",
    "# In a properly formed CSR matrix from CountVectorizer, the column indices for each row are stored in ascending order.\n",
    "# So if you’re seeing [14887, 31077, 32493, 16916, ...], that suggests one of two things:\n",
    "# The matrix is not in CSR format (maybe it’s COO or CSC), or\n",
    "# You’re looking at a row that was modified or concatenated, breaking the sort order.\n",
    "# But CountVectorizer outputs CSR by default, and row slicing preserves CSR.\n",
    "\n",
    "col_indices = third_record.nonzero()[1]\n",
    "\n",
    "second_term = count_vect.get_feature_names_out()[col_indices[2]]\n",
    "\n",
    "print(f\"The third 1 in the third record (by column order) represents the term '{second_term}' at position {col_indices[2]}\")"
   ]
  },
  {
   "cell_type": "markdown",
   "metadata": {},
   "source": [
    "10. Create a heatmap to show the relationship between the most used terms and the documents using the most top 30 terms"
   ]
  },
  {
   "cell_type": "markdown",
   "metadata": {},
   "source": [
    "Exercise 11"
   ]
  },
  {
   "cell_type": "code",
   "execution_count": 198,
   "metadata": {},
   "outputs": [
    {
     "data": {
      "image/png": "[encoded data removed]",
      "text/plain": [
       "<Figure size 1200x1000 with 2 Axes>"
      ]
     },
     "metadata": {},
     "output_type": "display_data"
    }
   ],
   "source": [
    "import seaborn as sns\n",
    "\n",
    "top_n = 30\n",
    "\n",
    "# Total count of each term across the entire corpus (sum over documents)\n",
    "term_frequency = np.asarray(df_counts.sum(axis=0))[0]\n",
    "\n",
    "# Indices of the top 30 most frequent terms (sorted descending)\n",
    "top_indices = term_frequency.argsort()[-top_n:][::-1]\n",
    "top_terms = count_vect.get_feature_names_out()[top_indices]\n",
    "\n",
    "# Score each document by how many of the top terms it contains\n",
    "doc_scores = df_counts[:, top_indices].sum(axis=1).A1 # A1 converts sparse matrix to 1D array\n",
    "\n",
    "# Get indices of the 15 documents that use the top terms most heavily\n",
    "top_doc_indices = doc_scores.argsort()[-top_n:][::-1]\n",
    "\n",
    "# Label rows/columns for the heatmap\n",
    "plot_x = [\"doc_\" + str(i) for i in df.index[top_doc_indices]]  # top docs (columns)\n",
    "plot_y = [\"term_\" + str(t) for t in top_terms]                # top terms (rows)\n",
    "\n",
    "# Extract submatrix: top docs (rows) × top terms (columns)\n",
    "plot_z = df_counts[top_doc_indices][:, top_indices].toarray()\n",
    "\n",
    "# Create DataFrame for heatmap (terms as rows, docs as columns)\n",
    "df_heatmap = pd.DataFrame(plot_z, columns=plot_x, index=plot_y)\n",
    "\n",
    "\n",
    "# Plot heatmap\n",
    "plt.figure(figsize=(12, 10))\n",
    "ax = sns.heatmap(\n",
    "    df_heatmap,\n",
    "    cmap=\"PuRd\",\n",
    "    vmin=0,\n",
    "    vmax=np.percentile(plot_z, 95),  # cap color scale to reduce outlier impact\n",
    "    annot=True                       # show counts in cells\n",
    ")\n",
    "plt.xticks(rotation=90)\n",
    "plt.title(\"Term-Document Matrix (Top 30 Terms vs. Top 30 Most Relevant Docs)\")\n",
    "plt.tight_layout()\n",
    "plt.show()"
   ]
  },
  {
   "cell_type": "markdown",
   "metadata": {},
   "source": [
    "11. Create bar plot to show the first 50 used terms"
   ]
  },
  {
   "cell_type": "markdown",
   "metadata": {},
   "source": [
    "Exercise 12"
   ]
  },
  {
   "cell_type": "code",
   "execution_count": 186,
   "metadata": {},
   "outputs": [
    {
     "data": {
      "application/vnd.plotly.v1+json": {
       "config": {
        "plotlyServerURL": "https://plot.ly"
       },
       "data": [
        {
         "hovertemplate": "<b>%{x}</b><br>Frequency: %{y}<extra></extra>",
         "legendgroup": "",
         "marker": {
          "color": {
           "bdata": "AwIGAQEDAQEBAQECAQEBAQEBBQEBAQEBAQMBAwEDAgEDAQEEAQIECwEBAQEBAQMCBAE=",
           "dtype": "i1"
          },
          "coloraxis": "coloraxis",
          "pattern": {
           "shape": ""
          }
         },
         "name": "",
         "orientation": "v",
         "showlegend": false,
         "text": {
          "bdata": "AAAAAAAACEAAAAAAAAAAQAAAAAAAABhAAAAAAAAA8D8AAAAAAADwPwAAAAAAAAhAAAAAAAAA8D8AAAAAAADwPwAAAAAAAPA/AAAAAAAA8D8AAAAAAADwPwAAAAAAAABAAAAAAAAA8D8AAAAAAADwPwAAAAAAAPA/AAAAAAAA8D8AAAAAAADwPwAAAAAAAPA/AAAAAAAAFEAAAAAAAADwPwAAAAAAAPA/AAAAAAAA8D8AAAAAAADwPwAAAAAAAPA/AAAAAAAA8D8AAAAAAAAIQAAAAAAAAPA/AAAAAAAACEAAAAAAAADwPwAAAAAAAAhAAAAAAAAAAEAAAAAAAADwPwAAAAAAAAhAAAAAAAAA8D8AAAAAAADwPwAAAAAAABBAAAAAAAAA8D8AAAAAAAAAQAAAAAAAABBAAAAAAAAAJkAAAAAAAADwPwAAAAAAAPA/AAAAAAAA8D8AAAAAAADwPwAAAAAAAPA/AAAAAAAA8D8AAAAAAAAIQAAAAAAAAABAAAAAAAAAEEAAAAAAAADwPw==",
          "dtype": "f8"
         },
         "textposition": "auto",
         "type": "bar",
         "x": [
          "aapl",
          "ability",
          "able",
          "abolish",
          "absolute",
          "absolutely",
          "abuse",
          "abusing",
          "abysmal",
          "accelerate",
          "accept",
          "acceptable",
          "accepted",
          "access",
          "according",
          "account",
          "accretive",
          "acct",
          "accurate",
          "accurately",
          "aces",
          "achieved",
          "achievement",
          "achieves",
          "achilles",
          "acn",
          "acquires",
          "acquisition",
          "acquisitions",
          "across",
          "act",
          "action",
          "actionable",
          "actions",
          "actively",
          "activity",
          "actors",
          "acts",
          "actual",
          "actually",
          "ad",
          "adausd",
          "add",
          "added",
          "addicted",
          "addicts",
          "adding",
          "addition",
          "additional",
          "addressed"
         ],
         "xaxis": "x",
         "y": {
          "bdata": "AwIGAQEDAQEBAQECAQEBAQEBBQEBAQEBAQMBAwEDAgEDAQEEAQIECwEBAQEBAQMCBAE=",
          "dtype": "i1"
         },
         "yaxis": "y"
        }
       ],
       "layout": {
        "barmode": "relative",
        "coloraxis": {
         "colorbar": {
          "title": {
           "text": "Frequency"
          }
         },
         "colorscale": [
          [
           0,
           "rgb(247,251,255)"
          ],
          [
           0.125,
           "rgb(222,235,247)"
          ],
          [
           0.25,
           "rgb(198,219,239)"
          ],
          [
           0.375,
           "rgb(158,202,225)"
          ],
          [
           0.5,
           "rgb(107,174,214)"
          ],
          [
           0.625,
           "rgb(66,146,198)"
          ],
          [
           0.75,
           "rgb(33,113,181)"
          ],
          [
           0.875,
           "rgb(8,81,156)"
          ],
          [
           1,
           "rgb(8,48,107)"
          ]
         ]
        },
        "height": 600,
        "legend": {
         "tracegroupgap": 0
        },
        "showlegend": false,
        "template": {
         "data": {
          "bar": [
           {
            "error_x": {
             "color": "#2a3f5f"
            },
            "error_y": {
             "color": "#2a3f5f"
            },
            "marker": {
             "line": {
              "color": "#E5ECF6",
              "width": 0.5
             },
             "pattern": {
              "fillmode": "overlay",
              "size": 10,
              "solidity": 0.2
             }
            },
            "type": "bar"
           }
          ],
          "barpolar": [
           {
            "marker": {
             "line": {
              "color": "#E5ECF6",
              "width": 0.5
             },
             "pattern": {
              "fillmode": "overlay",
              "size": 10,
              "solidity": 0.2
             }
            },
            "type": "barpolar"
           }
          ],
          "carpet": [
           {
            "aaxis": {
             "endlinecolor": "#2a3f5f",
             "gridcolor": "white",
             "linecolor": "white",
             "minorgridcolor": "white",
             "startlinecolor": "#2a3f5f"
            },
            "baxis": {
             "endlinecolor": "#2a3f5f",
             "gridcolor": "white",
             "linecolor": "white",
             "minorgridcolor": "white",
             "startlinecolor": "#2a3f5f"
            },
            "type": "carpet"
           }
          ],
          "choropleth": [
           {
            "colorbar": {
             "outlinewidth": 0,
             "ticks": ""
            },
            "type": "choropleth"
           }
          ],
          "contour": [
           {
            "colorbar": {
             "outlinewidth": 0,
             "ticks": ""
            },
            "colorscale": [
             [
              0,
              "#0d0887"
             ],
             [
              0.1111111111111111,
              "#46039f"
             ],
             [
              0.2222222222222222,
              "#7201a8"
             ],
             [
              0.3333333333333333,
              "#9c179e"
             ],
             [
              0.4444444444444444,
              "#bd3786"
             ],
             [
              0.5555555555555556,
              "#d8576b"
             ],
             [
              0.6666666666666666,
              "#ed7953"
             ],
             [
              0.7777777777777778,
              "#fb9f3a"
             ],
             [
              0.8888888888888888,
              "#fdca26"
             ],
             [
              1,
              "#f0f921"
             ]
            ],
            "type": "contour"
           }
          ],
          "contourcarpet": [
           {
            "colorbar": {
             "outlinewidth": 0,
             "ticks": ""
            },
            "type": "contourcarpet"
           }
          ],
          "heatmap": [
           {
            "colorbar": {
             "outlinewidth": 0,
             "ticks": ""
            },
            "colorscale": [
             [
              0,
              "#0d0887"
             ],
             [
              0.1111111111111111,
              "#46039f"
             ],
             [
              0.2222222222222222,
              "#7201a8"
             ],
             [
              0.3333333333333333,
              "#9c179e"
             ],
             [
              0.4444444444444444,
              "#bd3786"
             ],
             [
              0.5555555555555556,
              "#d8576b"
             ],
             [
              0.6666666666666666,
              "#ed7953"
             ],
             [
              0.7777777777777778,
              "#fb9f3a"
             ],
             [
              0.8888888888888888,
              "#fdca26"
             ],
             [
              1,
              "#f0f921"
             ]
            ],
            "type": "heatmap"
           }
          ],
          "histogram": [
           {
            "marker": {
             "pattern": {
              "fillmode": "overlay",
              "size": 10,
              "solidity": 0.2
             }
            },
            "type": "histogram"
           }
          ],
          "histogram2d": [
           {
            "colorbar": {
             "outlinewidth": 0,
             "ticks": ""
            },
            "colorscale": [
             [
              0,
              "#0d0887"
             ],
             [
              0.1111111111111111,
              "#46039f"
             ],
             [
              0.2222222222222222,
              "#7201a8"
             ],
             [
              0.3333333333333333,
              "#9c179e"
             ],
             [
              0.4444444444444444,
              "#bd3786"
             ],
             [
              0.5555555555555556,
              "#d8576b"
             ],
             [
              0.6666666666666666,
              "#ed7953"
             ],
             [
              0.7777777777777778,
              "#fb9f3a"
             ],
             [
              0.8888888888888888,
              "#fdca26"
             ],
             [
              1,
              "#f0f921"
             ]
            ],
            "type": "histogram2d"
           }
          ],
          "histogram2dcontour": [
           {
            "colorbar": {
             "outlinewidth": 0,
             "ticks": ""
            },
            "colorscale": [
             [
              0,
              "#0d0887"
             ],
             [
              0.1111111111111111,
              "#46039f"
             ],
             [
              0.2222222222222222,
              "#7201a8"
             ],
             [
              0.3333333333333333,
              "#9c179e"
             ],
             [
              0.4444444444444444,
              "#bd3786"
             ],
             [
              0.5555555555555556,
              "#d8576b"
             ],
             [
              0.6666666666666666,
              "#ed7953"
             ],
             [
              0.7777777777777778,
              "#fb9f3a"
             ],
             [
              0.8888888888888888,
              "#fdca26"
             ],
             [
              1,
              "#f0f921"
             ]
            ],
            "type": "histogram2dcontour"
           }
          ],
          "mesh3d": [
           {
            "colorbar": {
             "outlinewidth": 0,
             "ticks": ""
            },
            "type": "mesh3d"
           }
          ],
          "parcoords": [
           {
            "line": {
             "colorbar": {
              "outlinewidth": 0,
              "ticks": ""
             }
            },
            "type": "parcoords"
           }
          ],
          "pie": [
           {
            "automargin": true,
            "type": "pie"
           }
          ],
          "scatter": [
           {
            "fillpattern": {
             "fillmode": "overlay",
             "size": 10,
             "solidity": 0.2
            },
            "type": "scatter"
           }
          ],
          "scatter3d": [
           {
            "line": {
             "colorbar": {
              "outlinewidth": 0,
              "ticks": ""
             }
            },
            "marker": {
             "colorbar": {
              "outlinewidth": 0,
              "ticks": ""
             }
            },
            "type": "scatter3d"
           }
          ],
          "scattercarpet": [
           {
            "marker": {
             "colorbar": {
              "outlinewidth": 0,
              "ticks": ""
             }
            },
            "type": "scattercarpet"
           }
          ],
          "scattergeo": [
           {
            "marker": {
             "colorbar": {
              "outlinewidth": 0,
              "ticks": ""
             }
            },
            "type": "scattergeo"
           }
          ],
          "scattergl": [
           {
            "marker": {
             "colorbar": {
              "outlinewidth": 0,
              "ticks": ""
             }
            },
            "type": "scattergl"
           }
          ],
          "scattermap": [
           {
            "marker": {
             "colorbar": {
              "outlinewidth": 0,
              "ticks": ""
             }
            },
            "type": "scattermap"
           }
          ],
          "scattermapbox": [
           {
            "marker": {
             "colorbar": {
              "outlinewidth": 0,
              "ticks": ""
             }
            },
            "type": "scattermapbox"
           }
          ],
          "scatterpolar": [
           {
            "marker": {
             "colorbar": {
              "outlinewidth": 0,
              "ticks": ""
             }
            },
            "type": "scatterpolar"
           }
          ],
          "scatterpolargl": [
           {
            "marker": {
             "colorbar": {
              "outlinewidth": 0,
              "ticks": ""
             }
            },
            "type": "scatterpolargl"
           }
          ],
          "scatterternary": [
           {
            "marker": {
             "colorbar": {
              "outlinewidth": 0,
              "ticks": ""
             }
            },
            "type": "scatterternary"
           }
          ],
          "surface": [
           {
            "colorbar": {
             "outlinewidth": 0,
             "ticks": ""
            },
            "colorscale": [
             [
              0,
              "#0d0887"
             ],
             [
              0.1111111111111111,
              "#46039f"
             ],
             [
              0.2222222222222222,
              "#7201a8"
             ],
             [
              0.3333333333333333,
              "#9c179e"
             ],
             [
              0.4444444444444444,
              "#bd3786"
             ],
             [
              0.5555555555555556,
              "#d8576b"
             ],
             [
              0.6666666666666666,
              "#ed7953"
             ],
             [
              0.7777777777777778,
              "#fb9f3a"
             ],
             [
              0.8888888888888888,
              "#fdca26"
             ],
             [
              1,
              "#f0f921"
             ]
            ],
            "type": "surface"
           }
          ],
          "table": [
           {
            "cells": {
             "fill": {
              "color": "#EBF0F8"
             },
             "line": {
              "color": "white"
             }
            },
            "header": {
             "fill": {
              "color": "#C8D4E3"
             },
             "line": {
              "color": "white"
             }
            },
            "type": "table"
           }
          ]
         },
         "layout": {
          "annotationdefaults": {
           "arrowcolor": "#2a3f5f",
           "arrowhead": 0,
           "arrowwidth": 1
          },
          "autotypenumbers": "strict",
          "coloraxis": {
           "colorbar": {
            "outlinewidth": 0,
            "ticks": ""
           }
          },
          "colorscale": {
           "diverging": [
            [
             0,
             "#8e0152"
            ],
            [
             0.1,
             "#c51b7d"
            ],
            [
             0.2,
             "#de77ae"
            ],
            [
             0.3,
             "#f1b6da"
            ],
            [
             0.4,
             "#fde0ef"
            ],
            [
             0.5,
             "#f7f7f7"
            ],
            [
             0.6,
             "#e6f5d0"
            ],
            [
             0.7,
             "#b8e186"
            ],
            [
             0.8,
             "#7fbc41"
            ],
            [
             0.9,
             "#4d9221"
            ],
            [
             1,
             "#276419"
            ]
           ],
           "sequential": [
            [
             0,
             "#0d0887"
            ],
            [
             0.1111111111111111,
             "#46039f"
            ],
            [
             0.2222222222222222,
             "#7201a8"
            ],
            [
             0.3333333333333333,
             "#9c179e"
            ],
            [
             0.4444444444444444,
             "#bd3786"
            ],
            [
             0.5555555555555556,
             "#d8576b"
            ],
            [
             0.6666666666666666,
             "#ed7953"
            ],
            [
             0.7777777777777778,
             "#fb9f3a"
            ],
            [
             0.8888888888888888,
             "#fdca26"
            ],
            [
             1,
             "#f0f921"
            ]
           ],
           "sequentialminus": [
            [
             0,
             "#0d0887"
            ],
            [
             0.1111111111111111,
             "#46039f"
            ],
            [
             0.2222222222222222,
             "#7201a8"
            ],
            [
             0.3333333333333333,
             "#9c179e"
            ],
            [
             0.4444444444444444,
             "#bd3786"
            ],
            [
             0.5555555555555556,
             "#d8576b"
            ],
            [
             0.6666666666666666,
             "#ed7953"
            ],
            [
             0.7777777777777778,
             "#fb9f3a"
            ],
            [
             0.8888888888888888,
             "#fdca26"
            ],
            [
             1,
             "#f0f921"
            ]
           ]
          },
          "colorway": [
           "#636efa",
           "#EF553B",
           "#00cc96",
           "#ab63fa",
           "#FFA15A",
           "#19d3f3",
           "#FF6692",
           "#B6E880",
           "#FF97FF",
           "#FECB52"
          ],
          "font": {
           "color": "#2a3f5f"
          },
          "geo": {
           "bgcolor": "white",
           "lakecolor": "white",
           "landcolor": "#E5ECF6",
           "showlakes": true,
           "showland": true,
           "subunitcolor": "white"
          },
          "hoverlabel": {
           "align": "left"
          },
          "hovermode": "closest",
          "mapbox": {
           "style": "light"
          },
          "paper_bgcolor": "white",
          "plot_bgcolor": "#E5ECF6",
          "polar": {
           "angularaxis": {
            "gridcolor": "white",
            "linecolor": "white",
            "ticks": ""
           },
           "bgcolor": "#E5ECF6",
           "radialaxis": {
            "gridcolor": "white",
            "linecolor": "white",
            "ticks": ""
           }
          },
          "scene": {
           "xaxis": {
            "backgroundcolor": "#E5ECF6",
            "gridcolor": "white",
            "gridwidth": 2,
            "linecolor": "white",
            "showbackground": true,
            "ticks": "",
            "zerolinecolor": "white"
           },
           "yaxis": {
            "backgroundcolor": "#E5ECF6",
            "gridcolor": "white",
            "gridwidth": 2,
            "linecolor": "white",
            "showbackground": true,
            "ticks": "",
            "zerolinecolor": "white"
           },
           "zaxis": {
            "backgroundcolor": "#E5ECF6",
            "gridcolor": "white",
            "gridwidth": 2,
            "linecolor": "white",
            "showbackground": true,
            "ticks": "",
            "zerolinecolor": "white"
           }
          },
          "shapedefaults": {
           "line": {
            "color": "#2a3f5f"
           }
          },
          "ternary": {
           "aaxis": {
            "gridcolor": "white",
            "linecolor": "white",
            "ticks": ""
           },
           "baxis": {
            "gridcolor": "white",
            "linecolor": "white",
            "ticks": ""
           },
           "bgcolor": "#E5ECF6",
           "caxis": {
            "gridcolor": "white",
            "linecolor": "white",
            "ticks": ""
           }
          },
          "title": {
           "x": 0.05
          },
          "xaxis": {
           "automargin": true,
           "gridcolor": "white",
           "linecolor": "white",
           "ticks": "",
           "title": {
            "standoff": 15
           },
           "zerolinecolor": "white",
           "zerolinewidth": 2
          },
          "yaxis": {
           "automargin": true,
           "gridcolor": "white",
           "linecolor": "white",
           "ticks": "",
           "title": {
            "standoff": 15
           },
           "zerolinecolor": "white",
           "zerolinewidth": 2
          }
         }
        },
        "title": {
         "text": "Frequency of First 50 Terms"
        },
        "width": 1200,
        "xaxis": {
         "anchor": "y",
         "domain": [
          0,
          1
         ],
         "tickangle": -45,
         "title": {
          "text": "Terms"
         }
        },
        "yaxis": {
         "anchor": "x",
         "domain": [
          0,
          1
         ],
         "title": {
          "text": "Frequency"
         }
        }
       }
      }
     },
     "metadata": {},
     "output_type": "display_data"
    }
   ],
   "source": [
    "# Answer here\n",
    "import plotly.express as px\n",
    "\n",
    "first_term = 50\n",
    "term_frequencies = np.asarray(df_counts.sum(axis=0))[0]\n",
    "\n",
    "\n",
    "df_terms = pd.DataFrame({\n",
    "    'Term': count_vect.get_feature_names_out()[:first_term],\n",
    "    'Frequency': term_frequencies[:first_term]\n",
    "})\n",
    "\n",
    "# Create interactive bar chart\n",
    "fig = px.bar(\n",
    "    df_terms,\n",
    "    x='Term',\n",
    "    y='Frequency',\n",
    "    title=f'Frequency of First {first_term} Terms',\n",
    "    labels={'Term': 'Terms', 'Frequency': 'Frequency'},\n",
    "    color='Frequency',               \n",
    "    color_continuous_scale='Blues',\n",
    "    text='Frequency'    \n",
    ")\n",
    "\n",
    "# Improve layout for readability\n",
    "fig.update_layout(\n",
    "    xaxis_tickangle=-45,           # slightly rotated for readability\n",
    "    height=600,                     # taller for more space\n",
    "    width=1200,                     # wider for many bars\n",
    "    showlegend=False                # optional: hide legend if not needed\n",
    ")\n",
    "\n",
    "# Optional: Add hover info\n",
    "fig.update_traces(\n",
    "    hovertemplate=\"<b>%{x}</b><br>Frequency: %{y}<extra></extra>\"\n",
    ")\n",
    "\n",
    "fig.show()"
   ]
  },
  {
   "cell_type": "markdown",
   "metadata": {},
   "source": [
    "12. Create bar plot to show the top 50 used terms"
   ]
  },
  {
   "cell_type": "markdown",
   "metadata": {},
   "source": [
    "Exercise 13"
   ]
  },
  {
   "cell_type": "code",
   "execution_count": 187,
   "metadata": {},
   "outputs": [
    {
     "data": {
      "application/vnd.plotly.v1+json": {
       "config": {
        "plotlyServerURL": "https://plot.ly"
       },
       "data": [
        {
         "hovertemplate": "<b>%{x}</b><br>Frequency: %{y}<extra></extra>",
         "legendgroup": "",
         "marker": {
          "color": {
           "bdata": "GhUXSBccIhkYGDQVGB4lGzIuFxhTFyRsLhk1MyQYGyscFRwzFyczIRoVXF8jGBcaLhs=",
           "dtype": "i1"
          },
          "coloraxis": "coloraxis",
          "pattern": {
           "shape": ""
          }
         },
         "name": "",
         "orientation": "v",
         "showlegend": false,
         "text": {
          "bdata": "AAAAAAAAOkAAAAAAAAA1QAAAAAAAADdAAAAAAAAAUkAAAAAAAAA3QAAAAAAAADxAAAAAAAAAQUAAAAAAAAA5QAAAAAAAADhAAAAAAAAAOEAAAAAAAABKQAAAAAAAADVAAAAAAAAAOEAAAAAAAAA+QAAAAAAAgEJAAAAAAAAAO0AAAAAAAABJQAAAAAAAAEdAAAAAAAAAN0AAAAAAAAA4QAAAAAAAwFRAAAAAAAAAN0AAAAAAAABCQAAAAAAAAFtAAAAAAAAAR0AAAAAAAAA5QAAAAAAAgEpAAAAAAACASUAAAAAAAABCQAAAAAAAADhAAAAAAAAAO0AAAAAAAIBFQAAAAAAAADxAAAAAAAAANUAAAAAAAAA8QAAAAAAAgElAAAAAAAAAN0AAAAAAAIBDQAAAAAAAgElAAAAAAACAQEAAAAAAAAA6QAAAAAAAADVAAAAAAAAAV0AAAAAAAMBXQAAAAAAAgEFAAAAAAAAAOEAAAAAAAAA3QAAAAAAAADpAAAAAAAAAR0AAAAAAAAA7QA==",
          "dtype": "f8"
         },
         "textposition": "auto",
         "type": "bar",
         "x": [
          "also",
          "back",
          "buy",
          "china",
          "companies",
          "company",
          "could",
          "day",
          "dollar",
          "economy",
          "even",
          "everyone",
          "first",
          "futures",
          "get",
          "go",
          "going",
          "good",
          "know",
          "last",
          "like",
          "long",
          "make",
          "market",
          "money",
          "much",
          "one",
          "people",
          "price",
          "really",
          "right",
          "see",
          "silver",
          "since",
          "still",
          "stock",
          "stocks",
          "tariffs",
          "think",
          "time",
          "today",
          "trade",
          "trump",
          "us",
          "want",
          "way",
          "well",
          "world",
          "would",
          "years"
         ],
         "xaxis": "x",
         "y": {
          "bdata": "GhUXSBccIhkYGDQVGB4lGzIuFxhTFyRsLhk1MyQYGyscFRwzFyczIRoVXF8jGBcaLhs=",
          "dtype": "i1"
         },
         "yaxis": "y"
        }
       ],
       "layout": {
        "barmode": "relative",
        "coloraxis": {
         "colorbar": {
          "title": {
           "text": "Frequency"
          }
         },
         "colorscale": [
          [
           0,
           "rgb(247,251,255)"
          ],
          [
           0.125,
           "rgb(222,235,247)"
          ],
          [
           0.25,
           "rgb(198,219,239)"
          ],
          [
           0.375,
           "rgb(158,202,225)"
          ],
          [
           0.5,
           "rgb(107,174,214)"
          ],
          [
           0.625,
           "rgb(66,146,198)"
          ],
          [
           0.75,
           "rgb(33,113,181)"
          ],
          [
           0.875,
           "rgb(8,81,156)"
          ],
          [
           1,
           "rgb(8,48,107)"
          ]
         ]
        },
        "height": 600,
        "legend": {
         "tracegroupgap": 0
        },
        "showlegend": false,
        "template": {
         "data": {
          "bar": [
           {
            "error_x": {
             "color": "#2a3f5f"
            },
            "error_y": {
             "color": "#2a3f5f"
            },
            "marker": {
             "line": {
              "color": "#E5ECF6",
              "width": 0.5
             },
             "pattern": {
              "fillmode": "overlay",
              "size": 10,
              "solidity": 0.2
             }
            },
            "type": "bar"
           }
          ],
          "barpolar": [
           {
            "marker": {
             "line": {
              "color": "#E5ECF6",
              "width": 0.5
             },
             "pattern": {
              "fillmode": "overlay",
              "size": 10,
              "solidity": 0.2
             }
            },
            "type": "barpolar"
           }
          ],
          "carpet": [
           {
            "aaxis": {
             "endlinecolor": "#2a3f5f",
             "gridcolor": "white",
             "linecolor": "white",
             "minorgridcolor": "white",
             "startlinecolor": "#2a3f5f"
            },
            "baxis": {
             "endlinecolor": "#2a3f5f",
             "gridcolor": "white",
             "linecolor": "white",
             "minorgridcolor": "white",
             "startlinecolor": "#2a3f5f"
            },
            "type": "carpet"
           }
          ],
          "choropleth": [
           {
            "colorbar": {
             "outlinewidth": 0,
             "ticks": ""
            },
            "type": "choropleth"
           }
          ],
          "contour": [
           {
            "colorbar": {
             "outlinewidth": 0,
             "ticks": ""
            },
            "colorscale": [
             [
              0,
              "#0d0887"
             ],
             [
              0.1111111111111111,
              "#46039f"
             ],
             [
              0.2222222222222222,
              "#7201a8"
             ],
             [
              0.3333333333333333,
              "#9c179e"
             ],
             [
              0.4444444444444444,
              "#bd3786"
             ],
             [
              0.5555555555555556,
              "#d8576b"
             ],
             [
              0.6666666666666666,
              "#ed7953"
             ],
             [
              0.7777777777777778,
              "#fb9f3a"
             ],
             [
              0.8888888888888888,
              "#fdca26"
             ],
             [
              1,
              "#f0f921"
             ]
            ],
            "type": "contour"
           }
          ],
          "contourcarpet": [
           {
            "colorbar": {
             "outlinewidth": 0,
             "ticks": ""
            },
            "type": "contourcarpet"
           }
          ],
          "heatmap": [
           {
            "colorbar": {
             "outlinewidth": 0,
             "ticks": ""
            },
            "colorscale": [
             [
              0,
              "#0d0887"
             ],
             [
              0.1111111111111111,
              "#46039f"
             ],
             [
              0.2222222222222222,
              "#7201a8"
             ],
             [
              0.3333333333333333,
              "#9c179e"
             ],
             [
              0.4444444444444444,
              "#bd3786"
             ],
             [
              0.5555555555555556,
              "#d8576b"
             ],
             [
              0.6666666666666666,
              "#ed7953"
             ],
             [
              0.7777777777777778,
              "#fb9f3a"
             ],
             [
              0.8888888888888888,
              "#fdca26"
             ],
             [
              1,
              "#f0f921"
             ]
            ],
            "type": "heatmap"
           }
          ],
          "histogram": [
           {
            "marker": {
             "pattern": {
              "fillmode": "overlay",
              "size": 10,
              "solidity": 0.2
             }
            },
            "type": "histogram"
           }
          ],
          "histogram2d": [
           {
            "colorbar": {
             "outlinewidth": 0,
             "ticks": ""
            },
            "colorscale": [
             [
              0,
              "#0d0887"
             ],
             [
              0.1111111111111111,
              "#46039f"
             ],
             [
              0.2222222222222222,
              "#7201a8"
             ],
             [
              0.3333333333333333,
              "#9c179e"
             ],
             [
              0.4444444444444444,
              "#bd3786"
             ],
             [
              0.5555555555555556,
              "#d8576b"
             ],
             [
              0.6666666666666666,
              "#ed7953"
             ],
             [
              0.7777777777777778,
              "#fb9f3a"
             ],
             [
              0.8888888888888888,
              "#fdca26"
             ],
             [
              1,
              "#f0f921"
             ]
            ],
            "type": "histogram2d"
           }
          ],
          "histogram2dcontour": [
           {
            "colorbar": {
             "outlinewidth": 0,
             "ticks": ""
            },
            "colorscale": [
             [
              0,
              "#0d0887"
             ],
             [
              0.1111111111111111,
              "#46039f"
             ],
             [
              0.2222222222222222,
              "#7201a8"
             ],
             [
              0.3333333333333333,
              "#9c179e"
             ],
             [
              0.4444444444444444,
              "#bd3786"
             ],
             [
              0.5555555555555556,
              "#d8576b"
             ],
             [
              0.6666666666666666,
              "#ed7953"
             ],
             [
              0.7777777777777778,
              "#fb9f3a"
             ],
             [
              0.8888888888888888,
              "#fdca26"
             ],
             [
              1,
              "#f0f921"
             ]
            ],
            "type": "histogram2dcontour"
           }
          ],
          "mesh3d": [
           {
            "colorbar": {
             "outlinewidth": 0,
             "ticks": ""
            },
            "type": "mesh3d"
           }
          ],
          "parcoords": [
           {
            "line": {
             "colorbar": {
              "outlinewidth": 0,
              "ticks": ""
             }
            },
            "type": "parcoords"
           }
          ],
          "pie": [
           {
            "automargin": true,
            "type": "pie"
           }
          ],
          "scatter": [
           {
            "fillpattern": {
             "fillmode": "overlay",
             "size": 10,
             "solidity": 0.2
            },
            "type": "scatter"
           }
          ],
          "scatter3d": [
           {
            "line": {
             "colorbar": {
              "outlinewidth": 0,
              "ticks": ""
             }
            },
            "marker": {
             "colorbar": {
              "outlinewidth": 0,
              "ticks": ""
             }
            },
            "type": "scatter3d"
           }
          ],
          "scattercarpet": [
           {
            "marker": {
             "colorbar": {
              "outlinewidth": 0,
              "ticks": ""
             }
            },
            "type": "scattercarpet"
           }
          ],
          "scattergeo": [
           {
            "marker": {
             "colorbar": {
              "outlinewidth": 0,
              "ticks": ""
             }
            },
            "type": "scattergeo"
           }
          ],
          "scattergl": [
           {
            "marker": {
             "colorbar": {
              "outlinewidth": 0,
              "ticks": ""
             }
            },
            "type": "scattergl"
           }
          ],
          "scattermap": [
           {
            "marker": {
             "colorbar": {
              "outlinewidth": 0,
              "ticks": ""
             }
            },
            "type": "scattermap"
           }
          ],
          "scattermapbox": [
           {
            "marker": {
             "colorbar": {
              "outlinewidth": 0,
              "ticks": ""
             }
            },
            "type": "scattermapbox"
           }
          ],
          "scatterpolar": [
           {
            "marker": {
             "colorbar": {
              "outlinewidth": 0,
              "ticks": ""
             }
            },
            "type": "scatterpolar"
           }
          ],
          "scatterpolargl": [
           {
            "marker": {
             "colorbar": {
              "outlinewidth": 0,
              "ticks": ""
             }
            },
            "type": "scatterpolargl"
           }
          ],
          "scatterternary": [
           {
            "marker": {
             "colorbar": {
              "outlinewidth": 0,
              "ticks": ""
             }
            },
            "type": "scatterternary"
           }
          ],
          "surface": [
           {
            "colorbar": {
             "outlinewidth": 0,
             "ticks": ""
            },
            "colorscale": [
             [
              0,
              "#0d0887"
             ],
             [
              0.1111111111111111,
              "#46039f"
             ],
             [
              0.2222222222222222,
              "#7201a8"
             ],
             [
              0.3333333333333333,
              "#9c179e"
             ],
             [
              0.4444444444444444,
              "#bd3786"
             ],
             [
              0.5555555555555556,
              "#d8576b"
             ],
             [
              0.6666666666666666,
              "#ed7953"
             ],
             [
              0.7777777777777778,
              "#fb9f3a"
             ],
             [
              0.8888888888888888,
              "#fdca26"
             ],
             [
              1,
              "#f0f921"
             ]
            ],
            "type": "surface"
           }
          ],
          "table": [
           {
            "cells": {
             "fill": {
              "color": "#EBF0F8"
             },
             "line": {
              "color": "white"
             }
            },
            "header": {
             "fill": {
              "color": "#C8D4E3"
             },
             "line": {
              "color": "white"
             }
            },
            "type": "table"
           }
          ]
         },
         "layout": {
          "annotationdefaults": {
           "arrowcolor": "#2a3f5f",
           "arrowhead": 0,
           "arrowwidth": 1
          },
          "autotypenumbers": "strict",
          "coloraxis": {
           "colorbar": {
            "outlinewidth": 0,
            "ticks": ""
           }
          },
          "colorscale": {
           "diverging": [
            [
             0,
             "#8e0152"
            ],
            [
             0.1,
             "#c51b7d"
            ],
            [
             0.2,
             "#de77ae"
            ],
            [
             0.3,
             "#f1b6da"
            ],
            [
             0.4,
             "#fde0ef"
            ],
            [
             0.5,
             "#f7f7f7"
            ],
            [
             0.6,
             "#e6f5d0"
            ],
            [
             0.7,
             "#b8e186"
            ],
            [
             0.8,
             "#7fbc41"
            ],
            [
             0.9,
             "#4d9221"
            ],
            [
             1,
             "#276419"
            ]
           ],
           "sequential": [
            [
             0,
             "#0d0887"
            ],
            [
             0.1111111111111111,
             "#46039f"
            ],
            [
             0.2222222222222222,
             "#7201a8"
            ],
            [
             0.3333333333333333,
             "#9c179e"
            ],
            [
             0.4444444444444444,
             "#bd3786"
            ],
            [
             0.5555555555555556,
             "#d8576b"
            ],
            [
             0.6666666666666666,
             "#ed7953"
            ],
            [
             0.7777777777777778,
             "#fb9f3a"
            ],
            [
             0.8888888888888888,
             "#fdca26"
            ],
            [
             1,
             "#f0f921"
            ]
           ],
           "sequentialminus": [
            [
             0,
             "#0d0887"
            ],
            [
             0.1111111111111111,
             "#46039f"
            ],
            [
             0.2222222222222222,
             "#7201a8"
            ],
            [
             0.3333333333333333,
             "#9c179e"
            ],
            [
             0.4444444444444444,
             "#bd3786"
            ],
            [
             0.5555555555555556,
             "#d8576b"
            ],
            [
             0.6666666666666666,
             "#ed7953"
            ],
            [
             0.7777777777777778,
             "#fb9f3a"
            ],
            [
             0.8888888888888888,
             "#fdca26"
            ],
            [
             1,
             "#f0f921"
            ]
           ]
          },
          "colorway": [
           "#636efa",
           "#EF553B",
           "#00cc96",
           "#ab63fa",
           "#FFA15A",
           "#19d3f3",
           "#FF6692",
           "#B6E880",
           "#FF97FF",
           "#FECB52"
          ],
          "font": {
           "color": "#2a3f5f"
          },
          "geo": {
           "bgcolor": "white",
           "lakecolor": "white",
           "landcolor": "#E5ECF6",
           "showlakes": true,
           "showland": true,
           "subunitcolor": "white"
          },
          "hoverlabel": {
           "align": "left"
          },
          "hovermode": "closest",
          "mapbox": {
           "style": "light"
          },
          "paper_bgcolor": "white",
          "plot_bgcolor": "#E5ECF6",
          "polar": {
           "angularaxis": {
            "gridcolor": "white",
            "linecolor": "white",
            "ticks": ""
           },
           "bgcolor": "#E5ECF6",
           "radialaxis": {
            "gridcolor": "white",
            "linecolor": "white",
            "ticks": ""
           }
          },
          "scene": {
           "xaxis": {
            "backgroundcolor": "#E5ECF6",
            "gridcolor": "white",
            "gridwidth": 2,
            "linecolor": "white",
            "showbackground": true,
            "ticks": "",
            "zerolinecolor": "white"
           },
           "yaxis": {
            "backgroundcolor": "#E5ECF6",
            "gridcolor": "white",
            "gridwidth": 2,
            "linecolor": "white",
            "showbackground": true,
            "ticks": "",
            "zerolinecolor": "white"
           },
           "zaxis": {
            "backgroundcolor": "#E5ECF6",
            "gridcolor": "white",
            "gridwidth": 2,
            "linecolor": "white",
            "showbackground": true,
            "ticks": "",
            "zerolinecolor": "white"
           }
          },
          "shapedefaults": {
           "line": {
            "color": "#2a3f5f"
           }
          },
          "ternary": {
           "aaxis": {
            "gridcolor": "white",
            "linecolor": "white",
            "ticks": ""
           },
           "baxis": {
            "gridcolor": "white",
            "linecolor": "white",
            "ticks": ""
           },
           "bgcolor": "#E5ECF6",
           "caxis": {
            "gridcolor": "white",
            "linecolor": "white",
            "ticks": ""
           }
          },
          "title": {
           "x": 0.05
          },
          "xaxis": {
           "automargin": true,
           "gridcolor": "white",
           "linecolor": "white",
           "ticks": "",
           "title": {
            "standoff": 15
           },
           "zerolinecolor": "white",
           "zerolinewidth": 2
          },
          "yaxis": {
           "automargin": true,
           "gridcolor": "white",
           "linecolor": "white",
           "ticks": "",
           "title": {
            "standoff": 15
           },
           "zerolinecolor": "white",
           "zerolinewidth": 2
          }
         }
        },
        "title": {
         "text": "Frequency of Top 50 Terms in Alphabhetical order"
        },
        "width": 1200,
        "xaxis": {
         "anchor": "y",
         "domain": [
          0,
          1
         ],
         "tickangle": -45,
         "title": {
          "text": "Terms"
         }
        },
        "yaxis": {
         "anchor": "x",
         "domain": [
          0,
          1
         ],
         "title": {
          "text": "Frequency"
         }
        }
       }
      }
     },
     "metadata": {},
     "output_type": "display_data"
    }
   ],
   "source": [
    "# Get total frequencies\n",
    "term_frequencies = np.asarray(df_counts.sum(axis=0))[0]\n",
    "\n",
    "# Step 1: Select top  most frequent terms (smart reduction)\n",
    "top_n = 50\n",
    "top_indices = term_frequencies.argsort()[-top_n:][::-1]\n",
    "\n",
    "# Step 2: Create DataFrame and and sort alphabetically based on the top 50\n",
    "df_terms = pd.DataFrame({\n",
    "    'Term': count_vect.get_feature_names_out()[top_indices],\n",
    "    'Frequency': term_frequencies[top_indices]\n",
    "}).sort_values('Term')\n",
    "\n",
    "fig = px.bar(\n",
    "    df_terms,\n",
    "    x='Term',\n",
    "    y='Frequency',\n",
    "    title=f'Frequency of Top {top_n} Terms in Alphabhetical order',\n",
    "    labels={'Term': 'Terms', 'Frequency': 'Frequency'},\n",
    "    color='Frequency',              \n",
    "    color_continuous_scale='Blues',\n",
    "    text='Frequency'   \n",
    ")\n",
    "\n",
    "# Improve layout for readability\n",
    "fig.update_layout(\n",
    "    xaxis_tickangle=-45,           # slightly rotated for readability\n",
    "    height=600,                     # taller for more space\n",
    "    width=1200,                     # wider for many bars\n",
    "    showlegend=False                # optional: hide legend if not needed\n",
    ")\n",
    "\n",
    "# Optional: Add hover info\n",
    "fig.update_traces(\n",
    "    hovertemplate=\"<b>%{x}</b><br>Frequency: %{y}<extra></extra>\"\n",
    ")\n",
    "fig.show()"
   ]
  },
  {
   "cell_type": "markdown",
   "metadata": {},
   "source": [
    "Exercise 14"
   ]
  },
  {
   "cell_type": "code",
   "execution_count": 188,
   "metadata": {},
   "outputs": [
    {
     "name": "stdout",
     "output_type": "stream",
     "text": [
      "         Term  Frequency\n",
      "0      market        108\n",
      "1          us         95\n",
      "2       trump         92\n",
      "3        like         83\n",
      "4       china         72\n",
      "5         one         53\n",
      "6        even         52\n",
      "7       think         51\n",
      "8      people         51\n",
      "9       stock         51\n",
      "10      going         50\n",
      "11      would         46\n",
      "12       good         46\n",
      "13      money         46\n",
      "14        see         43\n",
      "15    tariffs         39\n",
      "16        get         37\n",
      "17       make         36\n",
      "18      price         36\n",
      "19       want         35\n",
      "20      could         34\n",
      "21       time         33\n",
      "22    futures         30\n",
      "23      still         28\n",
      "24     silver         28\n",
      "25    company         28\n",
      "26      right         27\n",
      "27         go         27\n",
      "28      years         27\n",
      "29       also         26\n",
      "30      today         26\n",
      "31      world         26\n",
      "32        day         25\n",
      "33       much         25\n",
      "34      first         24\n",
      "35       last         24\n",
      "36     dollar         24\n",
      "37    economy         24\n",
      "38        way         24\n",
      "39     really         24\n",
      "40       long         23\n",
      "41  companies         23\n",
      "42       know         23\n",
      "43       well         23\n",
      "44        buy         23\n",
      "45     stocks         23\n",
      "46      trade         21\n",
      "47      since         21\n",
      "48       back         21\n",
      "49   everyone         21\n"
     ]
    },
    {
     "data": {
      "application/vnd.plotly.v1+json": {
       "config": {
        "plotlyServerURL": "https://plot.ly"
       },
       "data": [
        {
         "hovertemplate": "<b>%{x}</b><br>Frequency: %{y}<extra></extra>",
         "legendgroup": "",
         "marker": {
          "color": {
           "bdata": "bF9cU0g1NDMzMzIuLi4rJyUkJCMiIR4cHBwbGxsaGhoZGRgYGBgYGBcXFxcXFxUVFRU=",
           "dtype": "i1"
          },
          "coloraxis": "coloraxis",
          "pattern": {
           "shape": ""
          }
         },
         "name": "",
         "orientation": "v",
         "showlegend": false,
         "text": {
          "bdata": "AAAAAAAAW0AAAAAAAMBXQAAAAAAAAFdAAAAAAADAVEAAAAAAAABSQAAAAAAAgEpAAAAAAAAASkAAAAAAAIBJQAAAAAAAgElAAAAAAACASUAAAAAAAABJQAAAAAAAAEdAAAAAAAAAR0AAAAAAAABHQAAAAAAAgEVAAAAAAACAQ0AAAAAAAIBCQAAAAAAAAEJAAAAAAAAAQkAAAAAAAIBBQAAAAAAAAEFAAAAAAACAQEAAAAAAAAA+QAAAAAAAADxAAAAAAAAAPEAAAAAAAAA8QAAAAAAAADtAAAAAAAAAO0AAAAAAAAA7QAAAAAAAADpAAAAAAAAAOkAAAAAAAAA6QAAAAAAAADlAAAAAAAAAOUAAAAAAAAA4QAAAAAAAADhAAAAAAAAAOEAAAAAAAAA4QAAAAAAAADhAAAAAAAAAOEAAAAAAAAA3QAAAAAAAADdAAAAAAAAAN0AAAAAAAAA3QAAAAAAAADdAAAAAAAAAN0AAAAAAAAA1QAAAAAAAADVAAAAAAAAANUAAAAAAAAA1QA==",
          "dtype": "f8"
         },
         "textposition": "auto",
         "type": "bar",
         "x": [
          "market",
          "us",
          "trump",
          "like",
          "china",
          "one",
          "even",
          "think",
          "people",
          "stock",
          "going",
          "would",
          "good",
          "money",
          "see",
          "tariffs",
          "get",
          "make",
          "price",
          "want",
          "could",
          "time",
          "futures",
          "still",
          "silver",
          "company",
          "right",
          "go",
          "years",
          "also",
          "today",
          "world",
          "day",
          "much",
          "first",
          "last",
          "dollar",
          "economy",
          "way",
          "really",
          "long",
          "companies",
          "know",
          "well",
          "buy",
          "stocks",
          "trade",
          "since",
          "back",
          "everyone"
         ],
         "xaxis": "x",
         "y": {
          "bdata": "bF9cU0g1NDMzMzIuLi4rJyUkJCMiIR4cHBwbGxsaGhoZGRgYGBgYGBcXFxcXFxUVFRU=",
          "dtype": "i1"
         },
         "yaxis": "y"
        }
       ],
       "layout": {
        "barmode": "relative",
        "coloraxis": {
         "colorbar": {
          "title": {
           "text": "Frequency"
          }
         },
         "colorscale": [
          [
           0,
           "rgb(247,251,255)"
          ],
          [
           0.125,
           "rgb(222,235,247)"
          ],
          [
           0.25,
           "rgb(198,219,239)"
          ],
          [
           0.375,
           "rgb(158,202,225)"
          ],
          [
           0.5,
           "rgb(107,174,214)"
          ],
          [
           0.625,
           "rgb(66,146,198)"
          ],
          [
           0.75,
           "rgb(33,113,181)"
          ],
          [
           0.875,
           "rgb(8,81,156)"
          ],
          [
           1,
           "rgb(8,48,107)"
          ]
         ]
        },
        "height": 600,
        "legend": {
         "tracegroupgap": 0
        },
        "template": {
         "data": {
          "bar": [
           {
            "error_x": {
             "color": "#2a3f5f"
            },
            "error_y": {
             "color": "#2a3f5f"
            },
            "marker": {
             "line": {
              "color": "#E5ECF6",
              "width": 0.5
             },
             "pattern": {
              "fillmode": "overlay",
              "size": 10,
              "solidity": 0.2
             }
            },
            "type": "bar"
           }
          ],
          "barpolar": [
           {
            "marker": {
             "line": {
              "color": "#E5ECF6",
              "width": 0.5
             },
             "pattern": {
              "fillmode": "overlay",
              "size": 10,
              "solidity": 0.2
             }
            },
            "type": "barpolar"
           }
          ],
          "carpet": [
           {
            "aaxis": {
             "endlinecolor": "#2a3f5f",
             "gridcolor": "white",
             "linecolor": "white",
             "minorgridcolor": "white",
             "startlinecolor": "#2a3f5f"
            },
            "baxis": {
             "endlinecolor": "#2a3f5f",
             "gridcolor": "white",
             "linecolor": "white",
             "minorgridcolor": "white",
             "startlinecolor": "#2a3f5f"
            },
            "type": "carpet"
           }
          ],
          "choropleth": [
           {
            "colorbar": {
             "outlinewidth": 0,
             "ticks": ""
            },
            "type": "choropleth"
           }
          ],
          "contour": [
           {
            "colorbar": {
             "outlinewidth": 0,
             "ticks": ""
            },
            "colorscale": [
             [
              0,
              "#0d0887"
             ],
             [
              0.1111111111111111,
              "#46039f"
             ],
             [
              0.2222222222222222,
              "#7201a8"
             ],
             [
              0.3333333333333333,
              "#9c179e"
             ],
             [
              0.4444444444444444,
              "#bd3786"
             ],
             [
              0.5555555555555556,
              "#d8576b"
             ],
             [
              0.6666666666666666,
              "#ed7953"
             ],
             [
              0.7777777777777778,
              "#fb9f3a"
             ],
             [
              0.8888888888888888,
              "#fdca26"
             ],
             [
              1,
              "#f0f921"
             ]
            ],
            "type": "contour"
           }
          ],
          "contourcarpet": [
           {
            "colorbar": {
             "outlinewidth": 0,
             "ticks": ""
            },
            "type": "contourcarpet"
           }
          ],
          "heatmap": [
           {
            "colorbar": {
             "outlinewidth": 0,
             "ticks": ""
            },
            "colorscale": [
             [
              0,
              "#0d0887"
             ],
             [
              0.1111111111111111,
              "#46039f"
             ],
             [
              0.2222222222222222,
              "#7201a8"
             ],
             [
              0.3333333333333333,
              "#9c179e"
             ],
             [
              0.4444444444444444,
              "#bd3786"
             ],
             [
              0.5555555555555556,
              "#d8576b"
             ],
             [
              0.6666666666666666,
              "#ed7953"
             ],
             [
              0.7777777777777778,
              "#fb9f3a"
             ],
             [
              0.8888888888888888,
              "#fdca26"
             ],
             [
              1,
              "#f0f921"
             ]
            ],
            "type": "heatmap"
           }
          ],
          "histogram": [
           {
            "marker": {
             "pattern": {
              "fillmode": "overlay",
              "size": 10,
              "solidity": 0.2
             }
            },
            "type": "histogram"
           }
          ],
          "histogram2d": [
           {
            "colorbar": {
             "outlinewidth": 0,
             "ticks": ""
            },
            "colorscale": [
             [
              0,
              "#0d0887"
             ],
             [
              0.1111111111111111,
              "#46039f"
             ],
             [
              0.2222222222222222,
              "#7201a8"
             ],
             [
              0.3333333333333333,
              "#9c179e"
             ],
             [
              0.4444444444444444,
              "#bd3786"
             ],
             [
              0.5555555555555556,
              "#d8576b"
             ],
             [
              0.6666666666666666,
              "#ed7953"
             ],
             [
              0.7777777777777778,
              "#fb9f3a"
             ],
             [
              0.8888888888888888,
              "#fdca26"
             ],
             [
              1,
              "#f0f921"
             ]
            ],
            "type": "histogram2d"
           }
          ],
          "histogram2dcontour": [
           {
            "colorbar": {
             "outlinewidth": 0,
             "ticks": ""
            },
            "colorscale": [
             [
              0,
              "#0d0887"
             ],
             [
              0.1111111111111111,
              "#46039f"
             ],
             [
              0.2222222222222222,
              "#7201a8"
             ],
             [
              0.3333333333333333,
              "#9c179e"
             ],
             [
              0.4444444444444444,
              "#bd3786"
             ],
             [
              0.5555555555555556,
              "#d8576b"
             ],
             [
              0.6666666666666666,
              "#ed7953"
             ],
             [
              0.7777777777777778,
              "#fb9f3a"
             ],
             [
              0.8888888888888888,
              "#fdca26"
             ],
             [
              1,
              "#f0f921"
             ]
            ],
            "type": "histogram2dcontour"
           }
          ],
          "mesh3d": [
           {
            "colorbar": {
             "outlinewidth": 0,
             "ticks": ""
            },
            "type": "mesh3d"
           }
          ],
          "parcoords": [
           {
            "line": {
             "colorbar": {
              "outlinewidth": 0,
              "ticks": ""
             }
            },
            "type": "parcoords"
           }
          ],
          "pie": [
           {
            "automargin": true,
            "type": "pie"
           }
          ],
          "scatter": [
           {
            "fillpattern": {
             "fillmode": "overlay",
             "size": 10,
             "solidity": 0.2
            },
            "type": "scatter"
           }
          ],
          "scatter3d": [
           {
            "line": {
             "colorbar": {
              "outlinewidth": 0,
              "ticks": ""
             }
            },
            "marker": {
             "colorbar": {
              "outlinewidth": 0,
              "ticks": ""
             }
            },
            "type": "scatter3d"
           }
          ],
          "scattercarpet": [
           {
            "marker": {
             "colorbar": {
              "outlinewidth": 0,
              "ticks": ""
             }
            },
            "type": "scattercarpet"
           }
          ],
          "scattergeo": [
           {
            "marker": {
             "colorbar": {
              "outlinewidth": 0,
              "ticks": ""
             }
            },
            "type": "scattergeo"
           }
          ],
          "scattergl": [
           {
            "marker": {
             "colorbar": {
              "outlinewidth": 0,
              "ticks": ""
             }
            },
            "type": "scattergl"
           }
          ],
          "scattermap": [
           {
            "marker": {
             "colorbar": {
              "outlinewidth": 0,
              "ticks": ""
             }
            },
            "type": "scattermap"
           }
          ],
          "scattermapbox": [
           {
            "marker": {
             "colorbar": {
              "outlinewidth": 0,
              "ticks": ""
             }
            },
            "type": "scattermapbox"
           }
          ],
          "scatterpolar": [
           {
            "marker": {
             "colorbar": {
              "outlinewidth": 0,
              "ticks": ""
             }
            },
            "type": "scatterpolar"
           }
          ],
          "scatterpolargl": [
           {
            "marker": {
             "colorbar": {
              "outlinewidth": 0,
              "ticks": ""
             }
            },
            "type": "scatterpolargl"
           }
          ],
          "scatterternary": [
           {
            "marker": {
             "colorbar": {
              "outlinewidth": 0,
              "ticks": ""
             }
            },
            "type": "scatterternary"
           }
          ],
          "surface": [
           {
            "colorbar": {
             "outlinewidth": 0,
             "ticks": ""
            },
            "colorscale": [
             [
              0,
              "#0d0887"
             ],
             [
              0.1111111111111111,
              "#46039f"
             ],
             [
              0.2222222222222222,
              "#7201a8"
             ],
             [
              0.3333333333333333,
              "#9c179e"
             ],
             [
              0.4444444444444444,
              "#bd3786"
             ],
             [
              0.5555555555555556,
              "#d8576b"
             ],
             [
              0.6666666666666666,
              "#ed7953"
             ],
             [
              0.7777777777777778,
              "#fb9f3a"
             ],
             [
              0.8888888888888888,
              "#fdca26"
             ],
             [
              1,
              "#f0f921"
             ]
            ],
            "type": "surface"
           }
          ],
          "table": [
           {
            "cells": {
             "fill": {
              "color": "#EBF0F8"
             },
             "line": {
              "color": "white"
             }
            },
            "header": {
             "fill": {
              "color": "#C8D4E3"
             },
             "line": {
              "color": "white"
             }
            },
            "type": "table"
           }
          ]
         },
         "layout": {
          "annotationdefaults": {
           "arrowcolor": "#2a3f5f",
           "arrowhead": 0,
           "arrowwidth": 1
          },
          "autotypenumbers": "strict",
          "coloraxis": {
           "colorbar": {
            "outlinewidth": 0,
            "ticks": ""
           }
          },
          "colorscale": {
           "diverging": [
            [
             0,
             "#8e0152"
            ],
            [
             0.1,
             "#c51b7d"
            ],
            [
             0.2,
             "#de77ae"
            ],
            [
             0.3,
             "#f1b6da"
            ],
            [
             0.4,
             "#fde0ef"
            ],
            [
             0.5,
             "#f7f7f7"
            ],
            [
             0.6,
             "#e6f5d0"
            ],
            [
             0.7,
             "#b8e186"
            ],
            [
             0.8,
             "#7fbc41"
            ],
            [
             0.9,
             "#4d9221"
            ],
            [
             1,
             "#276419"
            ]
           ],
           "sequential": [
            [
             0,
             "#0d0887"
            ],
            [
             0.1111111111111111,
             "#46039f"
            ],
            [
             0.2222222222222222,
             "#7201a8"
            ],
            [
             0.3333333333333333,
             "#9c179e"
            ],
            [
             0.4444444444444444,
             "#bd3786"
            ],
            [
             0.5555555555555556,
             "#d8576b"
            ],
            [
             0.6666666666666666,
             "#ed7953"
            ],
            [
             0.7777777777777778,
             "#fb9f3a"
            ],
            [
             0.8888888888888888,
             "#fdca26"
            ],
            [
             1,
             "#f0f921"
            ]
           ],
           "sequentialminus": [
            [
             0,
             "#0d0887"
            ],
            [
             0.1111111111111111,
             "#46039f"
            ],
            [
             0.2222222222222222,
             "#7201a8"
            ],
            [
             0.3333333333333333,
             "#9c179e"
            ],
            [
             0.4444444444444444,
             "#bd3786"
            ],
            [
             0.5555555555555556,
             "#d8576b"
            ],
            [
             0.6666666666666666,
             "#ed7953"
            ],
            [
             0.7777777777777778,
             "#fb9f3a"
            ],
            [
             0.8888888888888888,
             "#fdca26"
            ],
            [
             1,
             "#f0f921"
            ]
           ]
          },
          "colorway": [
           "#636efa",
           "#EF553B",
           "#00cc96",
           "#ab63fa",
           "#FFA15A",
           "#19d3f3",
           "#FF6692",
           "#B6E880",
           "#FF97FF",
           "#FECB52"
          ],
          "font": {
           "color": "#2a3f5f"
          },
          "geo": {
           "bgcolor": "white",
           "lakecolor": "white",
           "landcolor": "#E5ECF6",
           "showlakes": true,
           "showland": true,
           "subunitcolor": "white"
          },
          "hoverlabel": {
           "align": "left"
          },
          "hovermode": "closest",
          "mapbox": {
           "style": "light"
          },
          "paper_bgcolor": "white",
          "plot_bgcolor": "#E5ECF6",
          "polar": {
           "angularaxis": {
            "gridcolor": "white",
            "linecolor": "white",
            "ticks": ""
           },
           "bgcolor": "#E5ECF6",
           "radialaxis": {
            "gridcolor": "white",
            "linecolor": "white",
            "ticks": ""
           }
          },
          "scene": {
           "xaxis": {
            "backgroundcolor": "#E5ECF6",
            "gridcolor": "white",
            "gridwidth": 2,
            "linecolor": "white",
            "showbackground": true,
            "ticks": "",
            "zerolinecolor": "white"
           },
           "yaxis": {
            "backgroundcolor": "#E5ECF6",
            "gridcolor": "white",
            "gridwidth": 2,
            "linecolor": "white",
            "showbackground": true,
            "ticks": "",
            "zerolinecolor": "white"
           },
           "zaxis": {
            "backgroundcolor": "#E5ECF6",
            "gridcolor": "white",
            "gridwidth": 2,
            "linecolor": "white",
            "showbackground": true,
            "ticks": "",
            "zerolinecolor": "white"
           }
          },
          "shapedefaults": {
           "line": {
            "color": "#2a3f5f"
           }
          },
          "ternary": {
           "aaxis": {
            "gridcolor": "white",
            "linecolor": "white",
            "ticks": ""
           },
           "baxis": {
            "gridcolor": "white",
            "linecolor": "white",
            "ticks": ""
           },
           "bgcolor": "#E5ECF6",
           "caxis": {
            "gridcolor": "white",
            "linecolor": "white",
            "ticks": ""
           }
          },
          "title": {
           "x": 0.05
          },
          "xaxis": {
           "automargin": true,
           "gridcolor": "white",
           "linecolor": "white",
           "ticks": "",
           "title": {
            "standoff": 15
           },
           "zerolinecolor": "white",
           "zerolinewidth": 2
          },
          "yaxis": {
           "automargin": true,
           "gridcolor": "white",
           "linecolor": "white",
           "ticks": "",
           "title": {
            "standoff": 15
           },
           "zerolinecolor": "white",
           "zerolinewidth": 2
          }
         }
        },
        "title": {
         "text": "Bar Plot of Frequency of Top 50 Terms"
        },
        "width": 1200,
        "xaxis": {
         "anchor": "y",
         "domain": [
          0,
          1
         ],
         "tickangle": -45,
         "title": {
          "text": "Terms"
         }
        },
        "yaxis": {
         "anchor": "x",
         "domain": [
          0,
          1
         ],
         "title": {
          "text": "Frequency"
         }
        }
       }
      }
     },
     "metadata": {},
     "output_type": "display_data"
    }
   ],
   "source": [
    "import plotly.express as px\n",
    "\n",
    "# Get total frequency of each term across all documents\n",
    "term_frequency = np.asarray(df_counts.sum(axis=0))[0]\n",
    "top_n = 50\n",
    "\n",
    "# Find indices of top 50 most frequent terms\n",
    "top_indices = term_frequency.argsort()[-top_n:][::-1]\n",
    "\n",
    "# Create DataFrame with top terms and their frequencies\n",
    "df_terms = pd.DataFrame({\n",
    "    'Term': count_vect.get_feature_names_out()[top_indices],\n",
    "    'Frequency': term_frequency[top_indices]\n",
    "})\n",
    "\n",
    "print(df_terms.to_string())\n",
    "\n",
    "# Create interactive bar chart\n",
    "fig = px.bar(\n",
    "    df_terms,\n",
    "    x='Term',\n",
    "    y='Frequency',\n",
    "    title=f'Bar Plot of Frequency of Top {top_n} Terms',\n",
    "    labels={'Term': 'Terms', 'Frequency': 'Frequency'},\n",
    "    color='Frequency',               # Color bars by frequency\n",
    "    color_continuous_scale='Blues',\n",
    "    text='Frequency'                # Show count on each bar\n",
    ")\n",
    "\n",
    "# Improve layout\n",
    "fig.update_layout(\n",
    "    xaxis_tickangle=-45,   # Rotate x-axis labels\n",
    "    height=600,\n",
    "    width=1200\n",
    ")\n",
    "\n",
    "# Customize hover tooltip\n",
    "fig.update_traces(\n",
    "    hovertemplate=\"<b>%{x}</b><br>Frequency: %{y}<extra></extra>\"\n",
    ")\n",
    "\n",
    "fig.show()"
   ]
  },
  {
   "cell_type": "markdown",
   "metadata": {},
   "source": [
    "Exercise 15"
   ]
  },
  {
   "cell_type": "code",
   "execution_count": 189,
   "metadata": {},
   "outputs": [
    {
     "name": "stdout",
     "output_type": "stream",
     "text": [
      "         Term  Frequency\n",
      "0      market   4.682131\n",
      "1          us   4.553877\n",
      "2       trump   4.521789\n",
      "3        like   4.418841\n",
      "4       china   4.276666\n",
      "5         one   3.970292\n",
      "6        even   3.951244\n",
      "7       think   3.931826\n",
      "8      people   3.931826\n",
      "9       stock   3.931826\n",
      "10      going   3.912023\n",
      "11      would   3.828641\n",
      "12       good   3.828641\n",
      "13      money   3.828641\n",
      "14        see   3.761200\n",
      "15    tariffs   3.663562\n",
      "16        get   3.610918\n",
      "17       make   3.583519\n",
      "18      price   3.583519\n",
      "19       want   3.555348\n",
      "20      could   3.526361\n",
      "21       time   3.496508\n",
      "22    futures   3.401197\n",
      "23      still   3.332205\n",
      "24     silver   3.332205\n",
      "25    company   3.332205\n",
      "26      right   3.295837\n",
      "27         go   3.295837\n",
      "28      years   3.295837\n",
      "29       also   3.258097\n",
      "30      today   3.258097\n",
      "31      world   3.258097\n",
      "32        day   3.218876\n",
      "33       much   3.218876\n",
      "34      first   3.178054\n",
      "35       last   3.178054\n",
      "36     dollar   3.178054\n",
      "37    economy   3.178054\n",
      "38        way   3.178054\n",
      "39     really   3.178054\n",
      "40       long   3.135494\n",
      "41  companies   3.135494\n",
      "42       know   3.135494\n",
      "43       well   3.135494\n",
      "44        buy   3.135494\n",
      "45     stocks   3.135494\n",
      "46      trade   3.044522\n",
      "47      since   3.044522\n",
      "48       back   3.044522\n",
      "49   everyone   3.044522\n"
     ]
    },
    {
     "data": {
      "application/vnd.plotly.v1+json": {
       "config": {
        "plotlyServerURL": "https://plot.ly"
       },
       "data": [
        {
         "hovertemplate": "<b>%{x}</b><br>Frequency: %{y}<extra></extra>",
         "legendgroup": "",
         "marker": {
          "color": {
           "bdata": "xFDAm4C6EkDjvP2AKzcSQHRop75PFhJAguRijeSsEUA/V/RcThsRQKs8Imgoww9ASamuqiWcD0D/AFH/YHQPQP8AUf9gdA9A/wBR/2B0D0CvG6y30ksPQGxCkL0OoQ5AbEKQvQ6hDkBsQpC9DqEOQBHsFBbwFg5A1g2IaPlODUC9xzruKOMMQAIgKvoLqwxAAiAq+gurDEDF8w9TWnEMQPYNuYH8NQxA0bjV9Nj4C0Cb1gv5pjULQCNKltZaqApAI0qW1lqoCkAjSpbWWqgKQJCEA7jfXQpAkIQDuN9dCkCQhAO4310KQM0a8OqUEApAzRrw6pQQCkDNGvDqlBAKQDON7fdBwAlAM43t90HACUD5LJJ8p2wJQPksknynbAlA+SySfKdsCUD5LJJ8p2wJQPksknynbAlA+SySfKdsCUDws9H9fRUJQPCz0f19FQlA8LPR/X0VCUDws9H9fRUJQPCz0f19FQlA8LPR/X0VCUCxrm+ULlsIQLGub5QuWwhAsa5vlC5bCECxrm+ULlsIQA==",
           "dtype": "f8"
          },
          "coloraxis": "coloraxis",
          "pattern": {
           "shape": ""
          }
         },
         "name": "",
         "orientation": "v",
         "showlegend": false,
         "text": {
          "bdata": "xFDAm4C6EkDjvP2AKzcSQHRop75PFhJAguRijeSsEUA/V/RcThsRQKs8Imgoww9ASamuqiWcD0D/AFH/YHQPQP8AUf9gdA9A/wBR/2B0D0CvG6y30ksPQGxCkL0OoQ5AbEKQvQ6hDkBsQpC9DqEOQBHsFBbwFg5A1g2IaPlODUC9xzruKOMMQAIgKvoLqwxAAiAq+gurDEDF8w9TWnEMQPYNuYH8NQxA0bjV9Nj4C0Cb1gv5pjULQCNKltZaqApAI0qW1lqoCkAjSpbWWqgKQJCEA7jfXQpAkIQDuN9dCkCQhAO4310KQM0a8OqUEApAzRrw6pQQCkDNGvDqlBAKQDON7fdBwAlAM43t90HACUD5LJJ8p2wJQPksknynbAlA+SySfKdsCUD5LJJ8p2wJQPksknynbAlA+SySfKdsCUDws9H9fRUJQPCz0f19FQlA8LPR/X0VCUDws9H9fRUJQPCz0f19FQlA8LPR/X0VCUCxrm+ULlsIQLGub5QuWwhAsa5vlC5bCECxrm+ULlsIQA==",
          "dtype": "f8"
         },
         "textposition": "auto",
         "type": "bar",
         "x": [
          "market",
          "us",
          "trump",
          "like",
          "china",
          "one",
          "even",
          "think",
          "people",
          "stock",
          "going",
          "would",
          "good",
          "money",
          "see",
          "tariffs",
          "get",
          "make",
          "price",
          "want",
          "could",
          "time",
          "futures",
          "still",
          "silver",
          "company",
          "right",
          "go",
          "years",
          "also",
          "today",
          "world",
          "day",
          "much",
          "first",
          "last",
          "dollar",
          "economy",
          "way",
          "really",
          "long",
          "companies",
          "know",
          "well",
          "buy",
          "stocks",
          "trade",
          "since",
          "back",
          "everyone"
         ],
         "xaxis": "x",
         "y": {
          "bdata": "xFDAm4C6EkDjvP2AKzcSQHRop75PFhJAguRijeSsEUA/V/RcThsRQKs8Imgoww9ASamuqiWcD0D/AFH/YHQPQP8AUf9gdA9A/wBR/2B0D0CvG6y30ksPQGxCkL0OoQ5AbEKQvQ6hDkBsQpC9DqEOQBHsFBbwFg5A1g2IaPlODUC9xzruKOMMQAIgKvoLqwxAAiAq+gurDEDF8w9TWnEMQPYNuYH8NQxA0bjV9Nj4C0Cb1gv5pjULQCNKltZaqApAI0qW1lqoCkAjSpbWWqgKQJCEA7jfXQpAkIQDuN9dCkCQhAO4310KQM0a8OqUEApAzRrw6pQQCkDNGvDqlBAKQDON7fdBwAlAM43t90HACUD5LJJ8p2wJQPksknynbAlA+SySfKdsCUD5LJJ8p2wJQPksknynbAlA+SySfKdsCUDws9H9fRUJQPCz0f19FQlA8LPR/X0VCUDws9H9fRUJQPCz0f19FQlA8LPR/X0VCUCxrm+ULlsIQLGub5QuWwhAsa5vlC5bCECxrm+ULlsIQA==",
          "dtype": "f8"
         },
         "yaxis": "y"
        }
       ],
       "layout": {
        "barmode": "relative",
        "coloraxis": {
         "colorbar": {
          "title": {
           "text": "Frequency"
          }
         },
         "colorscale": [
          [
           0,
           "#440154"
          ],
          [
           0.1111111111111111,
           "#482878"
          ],
          [
           0.2222222222222222,
           "#3e4989"
          ],
          [
           0.3333333333333333,
           "#31688e"
          ],
          [
           0.4444444444444444,
           "#26828e"
          ],
          [
           0.5555555555555556,
           "#1f9e89"
          ],
          [
           0.6666666666666666,
           "#35b779"
          ],
          [
           0.7777777777777778,
           "#6ece58"
          ],
          [
           0.8888888888888888,
           "#b5de2b"
          ],
          [
           1,
           "#fde725"
          ]
         ]
        },
        "height": 600,
        "legend": {
         "tracegroupgap": 0
        },
        "template": {
         "data": {
          "bar": [
           {
            "error_x": {
             "color": "#2a3f5f"
            },
            "error_y": {
             "color": "#2a3f5f"
            },
            "marker": {
             "line": {
              "color": "#E5ECF6",
              "width": 0.5
             },
             "pattern": {
              "fillmode": "overlay",
              "size": 10,
              "solidity": 0.2
             }
            },
            "type": "bar"
           }
          ],
          "barpolar": [
           {
            "marker": {
             "line": {
              "color": "#E5ECF6",
              "width": 0.5
             },
             "pattern": {
              "fillmode": "overlay",
              "size": 10,
              "solidity": 0.2
             }
            },
            "type": "barpolar"
           }
          ],
          "carpet": [
           {
            "aaxis": {
             "endlinecolor": "#2a3f5f",
             "gridcolor": "white",
             "linecolor": "white",
             "minorgridcolor": "white",
             "startlinecolor": "#2a3f5f"
            },
            "baxis": {
             "endlinecolor": "#2a3f5f",
             "gridcolor": "white",
             "linecolor": "white",
             "minorgridcolor": "white",
             "startlinecolor": "#2a3f5f"
            },
            "type": "carpet"
           }
          ],
          "choropleth": [
           {
            "colorbar": {
             "outlinewidth": 0,
             "ticks": ""
            },
            "type": "choropleth"
           }
          ],
          "contour": [
           {
            "colorbar": {
             "outlinewidth": 0,
             "ticks": ""
            },
            "colorscale": [
             [
              0,
              "#0d0887"
             ],
             [
              0.1111111111111111,
              "#46039f"
             ],
             [
              0.2222222222222222,
              "#7201a8"
             ],
             [
              0.3333333333333333,
              "#9c179e"
             ],
             [
              0.4444444444444444,
              "#bd3786"
             ],
             [
              0.5555555555555556,
              "#d8576b"
             ],
             [
              0.6666666666666666,
              "#ed7953"
             ],
             [
              0.7777777777777778,
              "#fb9f3a"
             ],
             [
              0.8888888888888888,
              "#fdca26"
             ],
             [
              1,
              "#f0f921"
             ]
            ],
            "type": "contour"
           }
          ],
          "contourcarpet": [
           {
            "colorbar": {
             "outlinewidth": 0,
             "ticks": ""
            },
            "type": "contourcarpet"
           }
          ],
          "heatmap": [
           {
            "colorbar": {
             "outlinewidth": 0,
             "ticks": ""
            },
            "colorscale": [
             [
              0,
              "#0d0887"
             ],
             [
              0.1111111111111111,
              "#46039f"
             ],
             [
              0.2222222222222222,
              "#7201a8"
             ],
             [
              0.3333333333333333,
              "#9c179e"
             ],
             [
              0.4444444444444444,
              "#bd3786"
             ],
             [
              0.5555555555555556,
              "#d8576b"
             ],
             [
              0.6666666666666666,
              "#ed7953"
             ],
             [
              0.7777777777777778,
              "#fb9f3a"
             ],
             [
              0.8888888888888888,
              "#fdca26"
             ],
             [
              1,
              "#f0f921"
             ]
            ],
            "type": "heatmap"
           }
          ],
          "histogram": [
           {
            "marker": {
             "pattern": {
              "fillmode": "overlay",
              "size": 10,
              "solidity": 0.2
             }
            },
            "type": "histogram"
           }
          ],
          "histogram2d": [
           {
            "colorbar": {
             "outlinewidth": 0,
             "ticks": ""
            },
            "colorscale": [
             [
              0,
              "#0d0887"
             ],
             [
              0.1111111111111111,
              "#46039f"
             ],
             [
              0.2222222222222222,
              "#7201a8"
             ],
             [
              0.3333333333333333,
              "#9c179e"
             ],
             [
              0.4444444444444444,
              "#bd3786"
             ],
             [
              0.5555555555555556,
              "#d8576b"
             ],
             [
              0.6666666666666666,
              "#ed7953"
             ],
             [
              0.7777777777777778,
              "#fb9f3a"
             ],
             [
              0.8888888888888888,
              "#fdca26"
             ],
             [
              1,
              "#f0f921"
             ]
            ],
            "type": "histogram2d"
           }
          ],
          "histogram2dcontour": [
           {
            "colorbar": {
             "outlinewidth": 0,
             "ticks": ""
            },
            "colorscale": [
             [
              0,
              "#0d0887"
             ],
             [
              0.1111111111111111,
              "#46039f"
             ],
             [
              0.2222222222222222,
              "#7201a8"
             ],
             [
              0.3333333333333333,
              "#9c179e"
             ],
             [
              0.4444444444444444,
              "#bd3786"
             ],
             [
              0.5555555555555556,
              "#d8576b"
             ],
             [
              0.6666666666666666,
              "#ed7953"
             ],
             [
              0.7777777777777778,
              "#fb9f3a"
             ],
             [
              0.8888888888888888,
              "#fdca26"
             ],
             [
              1,
              "#f0f921"
             ]
            ],
            "type": "histogram2dcontour"
           }
          ],
          "mesh3d": [
           {
            "colorbar": {
             "outlinewidth": 0,
             "ticks": ""
            },
            "type": "mesh3d"
           }
          ],
          "parcoords": [
           {
            "line": {
             "colorbar": {
              "outlinewidth": 0,
              "ticks": ""
             }
            },
            "type": "parcoords"
           }
          ],
          "pie": [
           {
            "automargin": true,
            "type": "pie"
           }
          ],
          "scatter": [
           {
            "fillpattern": {
             "fillmode": "overlay",
             "size": 10,
             "solidity": 0.2
            },
            "type": "scatter"
           }
          ],
          "scatter3d": [
           {
            "line": {
             "colorbar": {
              "outlinewidth": 0,
              "ticks": ""
             }
            },
            "marker": {
             "colorbar": {
              "outlinewidth": 0,
              "ticks": ""
             }
            },
            "type": "scatter3d"
           }
          ],
          "scattercarpet": [
           {
            "marker": {
             "colorbar": {
              "outlinewidth": 0,
              "ticks": ""
             }
            },
            "type": "scattercarpet"
           }
          ],
          "scattergeo": [
           {
            "marker": {
             "colorbar": {
              "outlinewidth": 0,
              "ticks": ""
             }
            },
            "type": "scattergeo"
           }
          ],
          "scattergl": [
           {
            "marker": {
             "colorbar": {
              "outlinewidth": 0,
              "ticks": ""
             }
            },
            "type": "scattergl"
           }
          ],
          "scattermap": [
           {
            "marker": {
             "colorbar": {
              "outlinewidth": 0,
              "ticks": ""
             }
            },
            "type": "scattermap"
           }
          ],
          "scattermapbox": [
           {
            "marker": {
             "colorbar": {
              "outlinewidth": 0,
              "ticks": ""
             }
            },
            "type": "scattermapbox"
           }
          ],
          "scatterpolar": [
           {
            "marker": {
             "colorbar": {
              "outlinewidth": 0,
              "ticks": ""
             }
            },
            "type": "scatterpolar"
           }
          ],
          "scatterpolargl": [
           {
            "marker": {
             "colorbar": {
              "outlinewidth": 0,
              "ticks": ""
             }
            },
            "type": "scatterpolargl"
           }
          ],
          "scatterternary": [
           {
            "marker": {
             "colorbar": {
              "outlinewidth": 0,
              "ticks": ""
             }
            },
            "type": "scatterternary"
           }
          ],
          "surface": [
           {
            "colorbar": {
             "outlinewidth": 0,
             "ticks": ""
            },
            "colorscale": [
             [
              0,
              "#0d0887"
             ],
             [
              0.1111111111111111,
              "#46039f"
             ],
             [
              0.2222222222222222,
              "#7201a8"
             ],
             [
              0.3333333333333333,
              "#9c179e"
             ],
             [
              0.4444444444444444,
              "#bd3786"
             ],
             [
              0.5555555555555556,
              "#d8576b"
             ],
             [
              0.6666666666666666,
              "#ed7953"
             ],
             [
              0.7777777777777778,
              "#fb9f3a"
             ],
             [
              0.8888888888888888,
              "#fdca26"
             ],
             [
              1,
              "#f0f921"
             ]
            ],
            "type": "surface"
           }
          ],
          "table": [
           {
            "cells": {
             "fill": {
              "color": "#EBF0F8"
             },
             "line": {
              "color": "white"
             }
            },
            "header": {
             "fill": {
              "color": "#C8D4E3"
             },
             "line": {
              "color": "white"
             }
            },
            "type": "table"
           }
          ]
         },
         "layout": {
          "annotationdefaults": {
           "arrowcolor": "#2a3f5f",
           "arrowhead": 0,
           "arrowwidth": 1
          },
          "autotypenumbers": "strict",
          "coloraxis": {
           "colorbar": {
            "outlinewidth": 0,
            "ticks": ""
           }
          },
          "colorscale": {
           "diverging": [
            [
             0,
             "#8e0152"
            ],
            [
             0.1,
             "#c51b7d"
            ],
            [
             0.2,
             "#de77ae"
            ],
            [
             0.3,
             "#f1b6da"
            ],
            [
             0.4,
             "#fde0ef"
            ],
            [
             0.5,
             "#f7f7f7"
            ],
            [
             0.6,
             "#e6f5d0"
            ],
            [
             0.7,
             "#b8e186"
            ],
            [
             0.8,
             "#7fbc41"
            ],
            [
             0.9,
             "#4d9221"
            ],
            [
             1,
             "#276419"
            ]
           ],
           "sequential": [
            [
             0,
             "#0d0887"
            ],
            [
             0.1111111111111111,
             "#46039f"
            ],
            [
             0.2222222222222222,
             "#7201a8"
            ],
            [
             0.3333333333333333,
             "#9c179e"
            ],
            [
             0.4444444444444444,
             "#bd3786"
            ],
            [
             0.5555555555555556,
             "#d8576b"
            ],
            [
             0.6666666666666666,
             "#ed7953"
            ],
            [
             0.7777777777777778,
             "#fb9f3a"
            ],
            [
             0.8888888888888888,
             "#fdca26"
            ],
            [
             1,
             "#f0f921"
            ]
           ],
           "sequentialminus": [
            [
             0,
             "#0d0887"
            ],
            [
             0.1111111111111111,
             "#46039f"
            ],
            [
             0.2222222222222222,
             "#7201a8"
            ],
            [
             0.3333333333333333,
             "#9c179e"
            ],
            [
             0.4444444444444444,
             "#bd3786"
            ],
            [
             0.5555555555555556,
             "#d8576b"
            ],
            [
             0.6666666666666666,
             "#ed7953"
            ],
            [
             0.7777777777777778,
             "#fb9f3a"
            ],
            [
             0.8888888888888888,
             "#fdca26"
            ],
            [
             1,
             "#f0f921"
            ]
           ]
          },
          "colorway": [
           "#636efa",
           "#EF553B",
           "#00cc96",
           "#ab63fa",
           "#FFA15A",
           "#19d3f3",
           "#FF6692",
           "#B6E880",
           "#FF97FF",
           "#FECB52"
          ],
          "font": {
           "color": "#2a3f5f"
          },
          "geo": {
           "bgcolor": "white",
           "lakecolor": "white",
           "landcolor": "#E5ECF6",
           "showlakes": true,
           "showland": true,
           "subunitcolor": "white"
          },
          "hoverlabel": {
           "align": "left"
          },
          "hovermode": "closest",
          "mapbox": {
           "style": "light"
          },
          "paper_bgcolor": "white",
          "plot_bgcolor": "#E5ECF6",
          "polar": {
           "angularaxis": {
            "gridcolor": "white",
            "linecolor": "white",
            "ticks": ""
           },
           "bgcolor": "#E5ECF6",
           "radialaxis": {
            "gridcolor": "white",
            "linecolor": "white",
            "ticks": ""
           }
          },
          "scene": {
           "xaxis": {
            "backgroundcolor": "#E5ECF6",
            "gridcolor": "white",
            "gridwidth": 2,
            "linecolor": "white",
            "showbackground": true,
            "ticks": "",
            "zerolinecolor": "white"
           },
           "yaxis": {
            "backgroundcolor": "#E5ECF6",
            "gridcolor": "white",
            "gridwidth": 2,
            "linecolor": "white",
            "showbackground": true,
            "ticks": "",
            "zerolinecolor": "white"
           },
           "zaxis": {
            "backgroundcolor": "#E5ECF6",
            "gridcolor": "white",
            "gridwidth": 2,
            "linecolor": "white",
            "showbackground": true,
            "ticks": "",
            "zerolinecolor": "white"
           }
          },
          "shapedefaults": {
           "line": {
            "color": "#2a3f5f"
           }
          },
          "ternary": {
           "aaxis": {
            "gridcolor": "white",
            "linecolor": "white",
            "ticks": ""
           },
           "baxis": {
            "gridcolor": "white",
            "linecolor": "white",
            "ticks": ""
           },
           "bgcolor": "#E5ECF6",
           "caxis": {
            "gridcolor": "white",
            "linecolor": "white",
            "ticks": ""
           }
          },
          "title": {
           "x": 0.05
          },
          "xaxis": {
           "automargin": true,
           "gridcolor": "white",
           "linecolor": "white",
           "ticks": "",
           "title": {
            "standoff": 15
           },
           "zerolinecolor": "white",
           "zerolinewidth": 2
          },
          "yaxis": {
           "automargin": true,
           "gridcolor": "white",
           "linecolor": "white",
           "ticks": "",
           "title": {
            "standoff": 15
           },
           "zerolinecolor": "white",
           "zerolinewidth": 2
          }
         }
        },
        "title": {
         "text": "Bar Plot of Frequency of Top 50 Terms"
        },
        "width": 1200,
        "xaxis": {
         "anchor": "y",
         "domain": [
          0,
          1
         ],
         "tickangle": -45,
         "title": {
          "text": "Terms"
         }
        },
        "yaxis": {
         "anchor": "x",
         "domain": [
          0,
          1
         ],
         "title": {
          "text": "Frequency"
         }
        }
       }
      }
     },
     "metadata": {},
     "output_type": "display_data"
    }
   ],
   "source": [
    "# Get total frequency of each term across all documents\n",
    "term_frequency = np.asarray(df_counts.sum(axis=0))[0]\n",
    "top_n = 50\n",
    "\n",
    "term_frequency_log = [math.log(i) for i in term_frequency]\n",
    "\n",
    "term_frequency_log = np.array(term_frequency_log)\n",
    "\n",
    "# Find indices of top 50 most frequent terms\n",
    "top_indices = term_frequency.argsort()[-top_n:][::-1]\n",
    "\n",
    "# Create DataFrame with top terms and their frequencies\n",
    "df_terms = pd.DataFrame({\n",
    "    'Term': count_vect.get_feature_names_out()[top_indices],\n",
    "    'Frequency': term_frequency_log[top_indices]\n",
    "})\n",
    "\n",
    "# Print top terms (optional)\n",
    "print(df_terms.to_string())\n",
    "\n",
    "# Create interactive bar chart\n",
    "fig = px.bar(\n",
    "    df_terms,\n",
    "    x='Term',\n",
    "    y='Frequency',\n",
    "    title=f'Bar Plot of Frequency of Top {top_n} Terms',\n",
    "    labels={'Term': 'Terms', 'Frequency': 'Frequency'},\n",
    "    color='Frequency',               # Color bars by frequency\n",
    "    color_continuous_scale='Viridis',\n",
    "    text='Frequency'                 # Show count on each bar\n",
    ")\n",
    "\n",
    "# Improve layout\n",
    "fig.update_layout(\n",
    "    xaxis_tickangle=-45,   # Rotate x-axis labels\n",
    "    height=600,\n",
    "    width=1200\n",
    ")\n",
    "\n",
    "# Customize hover tooltip\n",
    "fig.update_traces(\n",
    "    hovertemplate=\"<b>%{x}</b><br>Frequency: %{y}<extra></extra>\"\n",
    ")\n",
    "\n",
    "fig.show()"
   ]
  },
  {
   "cell_type": "markdown",
   "metadata": {},
   "source": [
    "Ignore below. This is only for trying another method"
   ]
  },
  {
   "cell_type": "code",
   "execution_count": 190,
   "metadata": {},
   "outputs": [],
   "source": [
    "# df_terms = pd.DataFrame({\n",
    "#     'Term': count_vect.get_feature_names_out()[top_indices],\n",
    "#     'Frequency': term_frequency[top_indices]\n",
    "# }).set_index('Term')\n",
    "\n",
    "# df_terms.plot(\n",
    "#     kind = 'bar',\n",
    "#     title = 'Category distribution',\n",
    "#     ylim = [0, term_frequency[top_indices].max() + 10], \n",
    "#     xlabel= 'Terms',\n",
    "#     ylabel='Frequency',\n",
    "#     rot = 90, fontsize = 12, figsize = (7,5))"
   ]
  },
  {
   "cell_type": "markdown",
   "metadata": {},
   "source": [
    "13. Create pie chart to compare the sentiment distribution using pandas"
   ]
  },
  {
   "cell_type": "code",
   "execution_count": 191,
   "metadata": {},
   "outputs": [
    {
     "data": {
      "text/plain": [
       "<Axes: title={'center': 'Sentiment distribution'}, ylabel='count'>"
      ]
     },
     "execution_count": 191,
     "metadata": {},
     "output_type": "execute_result"
    },
    {
     "data": {
      "image/png": "[encoded data removed]",
      "text/plain": [
       "<Figure size 800x300 with 1 Axes>"
      ]
     },
     "metadata": {},
     "output_type": "display_data"
    }
   ],
   "source": [
    "df['sentiment_label'].value_counts().plot(kind='pie',\n",
    "                                title='Sentiment distribution',\n",
    "                                autopct='%1.1f%%',  # This shows percentages\n",
    "                                rot=0, \n",
    "                                fontsize=11, \n",
    "                                figsize=(8,3))"
   ]
  },
  {
   "cell_type": "markdown",
   "metadata": {},
   "source": [
    "14. Create pie chart for sentiment distribution using plotly"
   ]
  },
  {
   "cell_type": "code",
   "execution_count": 192,
   "metadata": {},
   "outputs": [
    {
     "data": {
      "application/vnd.plotly.v1+json": {
       "config": {
        "plotlyServerURL": "https://plot.ly"
       },
       "data": [
        {
         "domain": {
          "x": [
           0,
           1
          ],
          "y": [
           0,
           1
          ]
         },
         "hole": 0.5,
         "hovertemplate": "<b>%{label}</b><br>Count: %{value}<br>Percentage: %{percent}<extra></extra>",
         "labels": [
          "Neutral",
          "Posittive",
          "Negative"
         ],
         "legendgroup": "",
         "marker": {
          "colors": [
           "grey",
           "cyan",
           "red"
          ]
         },
         "name": "",
         "showlegend": true,
         "textinfo": "percent+label",
         "textposition": "inside",
         "type": "pie",
         "values": {
          "bdata": "SwE/AcUA",
          "dtype": "i2"
         }
        }
       ],
       "layout": {
        "font": {
         "size": 11
        },
        "height": 600,
        "legend": {
         "tracegroupgap": 0
        },
        "template": {
         "data": {
          "bar": [
           {
            "error_x": {
             "color": "#2a3f5f"
            },
            "error_y": {
             "color": "#2a3f5f"
            },
            "marker": {
             "line": {
              "color": "#E5ECF6",
              "width": 0.5
             },
             "pattern": {
              "fillmode": "overlay",
              "size": 10,
              "solidity": 0.2
             }
            },
            "type": "bar"
           }
          ],
          "barpolar": [
           {
            "marker": {
             "line": {
              "color": "#E5ECF6",
              "width": 0.5
             },
             "pattern": {
              "fillmode": "overlay",
              "size": 10,
              "solidity": 0.2
             }
            },
            "type": "barpolar"
           }
          ],
          "carpet": [
           {
            "aaxis": {
             "endlinecolor": "#2a3f5f",
             "gridcolor": "white",
             "linecolor": "white",
             "minorgridcolor": "white",
             "startlinecolor": "#2a3f5f"
            },
            "baxis": {
             "endlinecolor": "#2a3f5f",
             "gridcolor": "white",
             "linecolor": "white",
             "minorgridcolor": "white",
             "startlinecolor": "#2a3f5f"
            },
            "type": "carpet"
           }
          ],
          "choropleth": [
           {
            "colorbar": {
             "outlinewidth": 0,
             "ticks": ""
            },
            "type": "choropleth"
           }
          ],
          "contour": [
           {
            "colorbar": {
             "outlinewidth": 0,
             "ticks": ""
            },
            "colorscale": [
             [
              0,
              "#0d0887"
             ],
             [
              0.1111111111111111,
              "#46039f"
             ],
             [
              0.2222222222222222,
              "#7201a8"
             ],
             [
              0.3333333333333333,
              "#9c179e"
             ],
             [
              0.4444444444444444,
              "#bd3786"
             ],
             [
              0.5555555555555556,
              "#d8576b"
             ],
             [
              0.6666666666666666,
              "#ed7953"
             ],
             [
              0.7777777777777778,
              "#fb9f3a"
             ],
             [
              0.8888888888888888,
              "#fdca26"
             ],
             [
              1,
              "#f0f921"
             ]
            ],
            "type": "contour"
           }
          ],
          "contourcarpet": [
           {
            "colorbar": {
             "outlinewidth": 0,
             "ticks": ""
            },
            "type": "contourcarpet"
           }
          ],
          "heatmap": [
           {
            "colorbar": {
             "outlinewidth": 0,
             "ticks": ""
            },
            "colorscale": [
             [
              0,
              "#0d0887"
             ],
             [
              0.1111111111111111,
              "#46039f"
             ],
             [
              0.2222222222222222,
              "#7201a8"
             ],
             [
              0.3333333333333333,
              "#9c179e"
             ],
             [
              0.4444444444444444,
              "#bd3786"
             ],
             [
              0.5555555555555556,
              "#d8576b"
             ],
             [
              0.6666666666666666,
              "#ed7953"
             ],
             [
              0.7777777777777778,
              "#fb9f3a"
             ],
             [
              0.8888888888888888,
              "#fdca26"
             ],
             [
              1,
              "#f0f921"
             ]
            ],
            "type": "heatmap"
           }
          ],
          "histogram": [
           {
            "marker": {
             "pattern": {
              "fillmode": "overlay",
              "size": 10,
              "solidity": 0.2
             }
            },
            "type": "histogram"
           }
          ],
          "histogram2d": [
           {
            "colorbar": {
             "outlinewidth": 0,
             "ticks": ""
            },
            "colorscale": [
             [
              0,
              "#0d0887"
             ],
             [
              0.1111111111111111,
              "#46039f"
             ],
             [
              0.2222222222222222,
              "#7201a8"
             ],
             [
              0.3333333333333333,
              "#9c179e"
             ],
             [
              0.4444444444444444,
              "#bd3786"
             ],
             [
              0.5555555555555556,
              "#d8576b"
             ],
             [
              0.6666666666666666,
              "#ed7953"
             ],
             [
              0.7777777777777778,
              "#fb9f3a"
             ],
             [
              0.8888888888888888,
              "#fdca26"
             ],
             [
              1,
              "#f0f921"
             ]
            ],
            "type": "histogram2d"
           }
          ],
          "histogram2dcontour": [
           {
            "colorbar": {
             "outlinewidth": 0,
             "ticks": ""
            },
            "colorscale": [
             [
              0,
              "#0d0887"
             ],
             [
              0.1111111111111111,
              "#46039f"
             ],
             [
              0.2222222222222222,
              "#7201a8"
             ],
             [
              0.3333333333333333,
              "#9c179e"
             ],
             [
              0.4444444444444444,
              "#bd3786"
             ],
             [
              0.5555555555555556,
              "#d8576b"
             ],
             [
              0.6666666666666666,
              "#ed7953"
             ],
             [
              0.7777777777777778,
              "#fb9f3a"
             ],
             [
              0.8888888888888888,
              "#fdca26"
             ],
             [
              1,
              "#f0f921"
             ]
            ],
            "type": "histogram2dcontour"
           }
          ],
          "mesh3d": [
           {
            "colorbar": {
             "outlinewidth": 0,
             "ticks": ""
            },
            "type": "mesh3d"
           }
          ],
          "parcoords": [
           {
            "line": {
             "colorbar": {
              "outlinewidth": 0,
              "ticks": ""
             }
            },
            "type": "parcoords"
           }
          ],
          "pie": [
           {
            "automargin": true,
            "type": "pie"
           }
          ],
          "scatter": [
           {
            "fillpattern": {
             "fillmode": "overlay",
             "size": 10,
             "solidity": 0.2
            },
            "type": "scatter"
           }
          ],
          "scatter3d": [
           {
            "line": {
             "colorbar": {
              "outlinewidth": 0,
              "ticks": ""
             }
            },
            "marker": {
             "colorbar": {
              "outlinewidth": 0,
              "ticks": ""
             }
            },
            "type": "scatter3d"
           }
          ],
          "scattercarpet": [
           {
            "marker": {
             "colorbar": {
              "outlinewidth": 0,
              "ticks": ""
             }
            },
            "type": "scattercarpet"
           }
          ],
          "scattergeo": [
           {
            "marker": {
             "colorbar": {
              "outlinewidth": 0,
              "ticks": ""
             }
            },
            "type": "scattergeo"
           }
          ],
          "scattergl": [
           {
            "marker": {
             "colorbar": {
              "outlinewidth": 0,
              "ticks": ""
             }
            },
            "type": "scattergl"
           }
          ],
          "scattermap": [
           {
            "marker": {
             "colorbar": {
              "outlinewidth": 0,
              "ticks": ""
             }
            },
            "type": "scattermap"
           }
          ],
          "scattermapbox": [
           {
            "marker": {
             "colorbar": {
              "outlinewidth": 0,
              "ticks": ""
             }
            },
            "type": "scattermapbox"
           }
          ],
          "scatterpolar": [
           {
            "marker": {
             "colorbar": {
              "outlinewidth": 0,
              "ticks": ""
             }
            },
            "type": "scatterpolar"
           }
          ],
          "scatterpolargl": [
           {
            "marker": {
             "colorbar": {
              "outlinewidth": 0,
              "ticks": ""
             }
            },
            "type": "scatterpolargl"
           }
          ],
          "scatterternary": [
           {
            "marker": {
             "colorbar": {
              "outlinewidth": 0,
              "ticks": ""
             }
            },
            "type": "scatterternary"
           }
          ],
          "surface": [
           {
            "colorbar": {
             "outlinewidth": 0,
             "ticks": ""
            },
            "colorscale": [
             [
              0,
              "#0d0887"
             ],
             [
              0.1111111111111111,
              "#46039f"
             ],
             [
              0.2222222222222222,
              "#7201a8"
             ],
             [
              0.3333333333333333,
              "#9c179e"
             ],
             [
              0.4444444444444444,
              "#bd3786"
             ],
             [
              0.5555555555555556,
              "#d8576b"
             ],
             [
              0.6666666666666666,
              "#ed7953"
             ],
             [
              0.7777777777777778,
              "#fb9f3a"
             ],
             [
              0.8888888888888888,
              "#fdca26"
             ],
             [
              1,
              "#f0f921"
             ]
            ],
            "type": "surface"
           }
          ],
          "table": [
           {
            "cells": {
             "fill": {
              "color": "#EBF0F8"
             },
             "line": {
              "color": "white"
             }
            },
            "header": {
             "fill": {
              "color": "#C8D4E3"
             },
             "line": {
              "color": "white"
             }
            },
            "type": "table"
           }
          ]
         },
         "layout": {
          "annotationdefaults": {
           "arrowcolor": "#2a3f5f",
           "arrowhead": 0,
           "arrowwidth": 1
          },
          "autotypenumbers": "strict",
          "coloraxis": {
           "colorbar": {
            "outlinewidth": 0,
            "ticks": ""
           }
          },
          "colorscale": {
           "diverging": [
            [
             0,
             "#8e0152"
            ],
            [
             0.1,
             "#c51b7d"
            ],
            [
             0.2,
             "#de77ae"
            ],
            [
             0.3,
             "#f1b6da"
            ],
            [
             0.4,
             "#fde0ef"
            ],
            [
             0.5,
             "#f7f7f7"
            ],
            [
             0.6,
             "#e6f5d0"
            ],
            [
             0.7,
             "#b8e186"
            ],
            [
             0.8,
             "#7fbc41"
            ],
            [
             0.9,
             "#4d9221"
            ],
            [
             1,
             "#276419"
            ]
           ],
           "sequential": [
            [
             0,
             "#0d0887"
            ],
            [
             0.1111111111111111,
             "#46039f"
            ],
            [
             0.2222222222222222,
             "#7201a8"
            ],
            [
             0.3333333333333333,
             "#9c179e"
            ],
            [
             0.4444444444444444,
             "#bd3786"
            ],
            [
             0.5555555555555556,
             "#d8576b"
            ],
            [
             0.6666666666666666,
             "#ed7953"
            ],
            [
             0.7777777777777778,
             "#fb9f3a"
            ],
            [
             0.8888888888888888,
             "#fdca26"
            ],
            [
             1,
             "#f0f921"
            ]
           ],
           "sequentialminus": [
            [
             0,
             "#0d0887"
            ],
            [
             0.1111111111111111,
             "#46039f"
            ],
            [
             0.2222222222222222,
             "#7201a8"
            ],
            [
             0.3333333333333333,
             "#9c179e"
            ],
            [
             0.4444444444444444,
             "#bd3786"
            ],
            [
             0.5555555555555556,
             "#d8576b"
            ],
            [
             0.6666666666666666,
             "#ed7953"
            ],
            [
             0.7777777777777778,
             "#fb9f3a"
            ],
            [
             0.8888888888888888,
             "#fdca26"
            ],
            [
             1,
             "#f0f921"
            ]
           ]
          },
          "colorway": [
           "#636efa",
           "#EF553B",
           "#00cc96",
           "#ab63fa",
           "#FFA15A",
           "#19d3f3",
           "#FF6692",
           "#B6E880",
           "#FF97FF",
           "#FECB52"
          ],
          "font": {
           "color": "#2a3f5f"
          },
          "geo": {
           "bgcolor": "white",
           "lakecolor": "white",
           "landcolor": "#E5ECF6",
           "showlakes": true,
           "showland": true,
           "subunitcolor": "white"
          },
          "hoverlabel": {
           "align": "left"
          },
          "hovermode": "closest",
          "mapbox": {
           "style": "light"
          },
          "paper_bgcolor": "white",
          "plot_bgcolor": "#E5ECF6",
          "polar": {
           "angularaxis": {
            "gridcolor": "white",
            "linecolor": "white",
            "ticks": ""
           },
           "bgcolor": "#E5ECF6",
           "radialaxis": {
            "gridcolor": "white",
            "linecolor": "white",
            "ticks": ""
           }
          },
          "scene": {
           "xaxis": {
            "backgroundcolor": "#E5ECF6",
            "gridcolor": "white",
            "gridwidth": 2,
            "linecolor": "white",
            "showbackground": true,
            "ticks": "",
            "zerolinecolor": "white"
           },
           "yaxis": {
            "backgroundcolor": "#E5ECF6",
            "gridcolor": "white",
            "gridwidth": 2,
            "linecolor": "white",
            "showbackground": true,
            "ticks": "",
            "zerolinecolor": "white"
           },
           "zaxis": {
            "backgroundcolor": "#E5ECF6",
            "gridcolor": "white",
            "gridwidth": 2,
            "linecolor": "white",
            "showbackground": true,
            "ticks": "",
            "zerolinecolor": "white"
           }
          },
          "shapedefaults": {
           "line": {
            "color": "#2a3f5f"
           }
          },
          "ternary": {
           "aaxis": {
            "gridcolor": "white",
            "linecolor": "white",
            "ticks": ""
           },
           "baxis": {
            "gridcolor": "white",
            "linecolor": "white",
            "ticks": ""
           },
           "bgcolor": "#E5ECF6",
           "caxis": {
            "gridcolor": "white",
            "linecolor": "white",
            "ticks": ""
           }
          },
          "title": {
           "x": 0.05
          },
          "xaxis": {
           "automargin": true,
           "gridcolor": "white",
           "linecolor": "white",
           "ticks": "",
           "title": {
            "standoff": 15
           },
           "zerolinecolor": "white",
           "zerolinewidth": 2
          },
          "yaxis": {
           "automargin": true,
           "gridcolor": "white",
           "linecolor": "white",
           "ticks": "",
           "title": {
            "standoff": 15
           },
           "zerolinecolor": "white",
           "zerolinewidth": 2
          }
         }
        },
        "title": {
         "text": "Sentiment distribution"
        },
        "width": 600
       }
      }
     },
     "metadata": {},
     "output_type": "display_data"
    }
   ],
   "source": [
    "import plotly.express as px\n",
    "\n",
    "df_sentiment = df['sentiment_label'].value_counts().reset_index()\n",
    "# rest_index() tt converts the Series into a proper DataFrame\n",
    "df_sentiment.columns = ['sentiment_label', 'count']\n",
    "colors = ['grey', 'cyan', 'red']\n",
    "\n",
    "# Create the pie chart\n",
    "fig = px.pie(df_sentiment, \n",
    "             values='count', \n",
    "             names='sentiment_label',\n",
    "             title='Sentiment distribution',\n",
    "             hole=0.5,  \n",
    "             width=600, \n",
    "             height=600)\n",
    "\n",
    "# Update layout to show percentages (they're shown by default, but you can customize)\n",
    "fig.update_traces(marker_colors=colors, textposition='inside', textinfo='percent+label',hovertemplate=\"<b>%{label}</b><br>Count: %{value}<br>Percentage: %{percent}<extra></extra>\")\n",
    "fig.update_layout(font=dict(size=11))\n",
    "\n",
    "fig.show()"
   ]
  },
  {
   "cell_type": "markdown",
   "metadata": {},
   "source": [
    "15. Create line graph to show the total post of the 4 subreddits from 2021 to 2025"
   ]
  },
  {
   "cell_type": "code",
   "execution_count": 193,
   "metadata": {},
   "outputs": [
    {
     "name": "stdout",
     "output_type": "stream",
     "text": [
      "subreddit  StockMarket  stocks  stockstobuytoday  wallstreetbets\n",
      "datetime                                                        \n",
      "2021                 0      41                58               0\n",
      "2022                 0       0                22               0\n",
      "2023                 0       0                14               0\n",
      "2024                 0       0                22               0\n",
      "2025               250     233                58             149\n"
     ]
    },
    {
     "data": {
      "image/png": "[encoded data removed]",
      "text/plain": [
       "<Figure size 1000x500 with 1 Axes>"
      ]
     },
     "metadata": {},
     "output_type": "display_data"
    }
   ],
   "source": [
    "df['datetime'] = pd.to_datetime(df['datetime'])\n",
    "df_time_table = df.groupby([df['datetime'].dt.year, 'subreddit']).size().unstack(fill_value=0)\n",
    "\n",
    "# unstack()\n",
    "# - Takes the innermost level of a MultiIndex (here: 'subreddit')\n",
    "# - Pivots it into columns\n",
    "# - Turns a Series (with 2D index: year + subreddit) into a DataFrame (years as rows, subreddits as columns)\n",
    "\n",
    "# fill_value=0 fills any missing combinations with 0\n",
    "\n",
    "print(df_time_table)\n",
    "\n",
    "df_time_table.plot(kind='line', \n",
    "                   marker='o',          # adds dots at data points\n",
    "                   figsize=(10,5))\n",
    "plt.title('Yearly Activity by Subreddit')\n",
    "plt.ylabel('Number of Posts/Comments')\n",
    "plt.xlabel('Year')\n",
    "plt.grid(True, linestyle='--', alpha=0.7)  # adds subtle grid for readability\n",
    "plt.legend(title='Subreddit')\n",
    "plt.xticks(df_time_table.index)  # ensures all years are shown as ticks\n",
    "plt.show()"
   ]
  },
  {
   "cell_type": "markdown",
   "metadata": {},
   "source": [
    "16. Create boxplot to show the distribution of a variable across 4 categories"
   ]
  },
  {
   "cell_type": "code",
   "execution_count": 194,
   "metadata": {},
   "outputs": [
    {
     "data": {
      "image/png": "[encoded data removed]",
      "text/plain": [
       "<Figure size 800x500 with 1 Axes>"
      ]
     },
     "metadata": {},
     "output_type": "display_data"
    }
   ],
   "source": [
    "plt.figure(figsize=(8, 5))\n",
    "sns.boxplot(data=df, x='subreddit', y='upvotes')\n",
    "plt.title('Upvote Distribution by Subreddit')\n",
    "plt.ylabel('Upvotes')\n",
    "plt.xticks(rotation=15)\n",
    "plt.yscale('symlog')  # handles large negative and positive values (Outliers)\n",
    "plt.grid(True, alpha=0.3)\n",
    "plt.show()"
   ]
  },
  {
   "cell_type": "markdown",
   "metadata": {},
   "source": [
    "# Phase 2"
   ]
  },
  {
   "cell_type": "code",
   "execution_count": 195,
   "metadata": {},
   "outputs": [],
   "source": [
    "### Begin Assignment Here"
   ]
  },
  {
   "cell_type": "code",
   "execution_count": null,
   "metadata": {},
   "outputs": [],
   "source": []
  }
 ],
 "metadata": {
  "kernelspec": {
   "display_name": "Python 3 (ipykernel)",
   "language": "python",
   "name": "python3"
  },
  "language_info": {
   "codemirror_mode": {
    "name": "ipython",
    "version": 3
   },
   "file_extension": ".py",
   "mimetype": "text/x-python",
   "name": "python",
   "nbconvert_exporter": "python",
   "pygments_lexer": "ipython3",
   "version": "3.11.0"
  }
 },
 "nbformat": 4,
 "nbformat_minor": 4
}
